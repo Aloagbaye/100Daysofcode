{
 "cells": [
  {
   "cell_type": "code",
   "execution_count": 1,
   "id": "f3772476-e989-4eb2-a4e0-b3499d0ed234",
   "metadata": {},
   "outputs": [],
   "source": [
    "from pyspark.sql import SparkSession"
   ]
  },
  {
   "cell_type": "code",
   "execution_count": 2,
   "id": "35bf5412-5559-4792-84e2-892a9dd18039",
   "metadata": {},
   "outputs": [],
   "source": [
    "spark = SparkSession.builder.appName(\"Data_Wrangling\").getOrCreate()"
   ]
  },
  {
   "cell_type": "code",
   "execution_count": 3,
   "id": "a22a920f-5a9c-42aa-a71b-105d5322969e",
   "metadata": {},
   "outputs": [],
   "source": [
    "file_location = \"movie_data_part1.csv\"\n",
    "file_type = \"csv\"\n",
    "infer_schema=\"False\"\n",
    "first_row_is_header=\"True\"\n",
    "delimeter=\"|\""
   ]
  },
  {
   "cell_type": "code",
   "execution_count": 17,
   "id": "18632442-0efe-4334-869a-de63c9e843c0",
   "metadata": {},
   "outputs": [],
   "source": [
    "df = spark.read.format(file_type)\\\n",
    ".option(\"inferSchema\",infer_schema)\\\n",
    ".option(\"header\",first_row_is_header)\\\n",
    ".option(\"sep\",delimeter)\\\n",
    ".load(file_location)"
   ]
  },
  {
   "cell_type": "code",
   "execution_count": 18,
   "id": "98fa1b0f-d647-42ee-a25e-2892ecdee0bb",
   "metadata": {},
   "outputs": [
    {
     "name": "stdout",
     "output_type": "stream",
     "text": [
      "root\n",
      " |-- belongs_to_collection: string (nullable = true)\n",
      " |-- budget: string (nullable = true)\n",
      " |-- id: string (nullable = true)\n",
      " |-- original_language: string (nullable = true)\n",
      " |-- original_title: string (nullable = true)\n",
      " |-- overview: string (nullable = true)\n",
      " |-- popularity: string (nullable = true)\n",
      " |-- production_companies: string (nullable = true)\n",
      " |-- production_countries: string (nullable = true)\n",
      " |-- release_date: string (nullable = true)\n",
      " |-- revenue: string (nullable = true)\n",
      " |-- runtime: string (nullable = true)\n",
      " |-- status: string (nullable = true)\n",
      " |-- tagline: string (nullable = true)\n",
      " |-- title: string (nullable = true)\n",
      " |-- vote_average: string (nullable = true)\n",
      "\n"
     ]
    }
   ],
   "source": [
    "df.printSchema()"
   ]
  },
  {
   "cell_type": "code",
   "execution_count": 6,
   "id": "073614db-1e44-4c3e-9d06-268d66d0d31c",
   "metadata": {},
   "outputs": [
    {
     "data": {
      "text/plain": [
       "[('belongs_to_collection', 'string'),\n",
       " ('budget', 'string'),\n",
       " ('id', 'string'),\n",
       " ('original_language', 'string'),\n",
       " ('original_title', 'string'),\n",
       " ('overview', 'string'),\n",
       " ('popularity', 'string'),\n",
       " ('production_companies', 'string'),\n",
       " ('production_countries', 'string'),\n",
       " ('release_date', 'string'),\n",
       " ('revenue', 'string'),\n",
       " ('runtime', 'string'),\n",
       " ('status', 'string'),\n",
       " ('tagline', 'string'),\n",
       " ('title', 'string'),\n",
       " ('vote_average', 'string')]"
      ]
     },
     "execution_count": 6,
     "metadata": {},
     "output_type": "execute_result"
    }
   ],
   "source": [
    "df.dtypes"
   ]
  },
  {
   "cell_type": "code",
   "execution_count": 7,
   "id": "3afb2940-9033-4906-b470-30d0432e16d3",
   "metadata": {},
   "outputs": [
    {
     "data": {
      "text/plain": [
       "['belongs_to_collection',\n",
       " 'budget',\n",
       " 'id',\n",
       " 'original_language',\n",
       " 'original_title',\n",
       " 'overview',\n",
       " 'popularity',\n",
       " 'production_companies',\n",
       " 'production_countries',\n",
       " 'release_date',\n",
       " 'revenue',\n",
       " 'runtime',\n",
       " 'status',\n",
       " 'tagline',\n",
       " 'title',\n",
       " 'vote_average']"
      ]
     },
     "execution_count": 7,
     "metadata": {},
     "output_type": "execute_result"
    }
   ],
   "source": [
    "df.columns"
   ]
  },
  {
   "cell_type": "code",
   "execution_count": 8,
   "id": "a54abb82-d3af-43e1-889c-897544a85d41",
   "metadata": {},
   "outputs": [
    {
     "data": {
      "text/plain": [
       "43998"
      ]
     },
     "execution_count": 8,
     "metadata": {},
     "output_type": "execute_result"
    }
   ],
   "source": [
    "df.count()"
   ]
  },
  {
   "cell_type": "code",
   "execution_count": 9,
   "id": "de99a748-6218-45f9-ba17-eb3e6fd8b9a5",
   "metadata": {},
   "outputs": [
    {
     "name": "stdout",
     "output_type": "stream",
     "text": [
      "The total number of records in the movie dataset is 43998\n"
     ]
    }
   ],
   "source": [
    "print('The total number of records in the movie dataset is '+str(df.count()))"
   ]
  },
  {
   "cell_type": "code",
   "execution_count": 12,
   "id": "48cfb996-d590-452f-9653-b81b112e0797",
   "metadata": {},
   "outputs": [],
   "source": [
    "select_columns = ['id','budget','popularity','release_date','revenue','title']"
   ]
  },
  {
   "cell_type": "code",
   "execution_count": 21,
   "id": "77c0b1fa-df36-45b9-b2e6-5c979ca54c66",
   "metadata": {},
   "outputs": [],
   "source": [
    "df=df.select(*select_columns)"
   ]
  },
  {
   "cell_type": "code",
   "execution_count": 14,
   "id": "70320c3b-5713-44e2-a069-66f517ffcad6",
   "metadata": {},
   "outputs": [
    {
     "name": "stdout",
     "output_type": "stream",
     "text": [
      "+-----+-------+------------------+------------+-------+--------------------+\n",
      "|   id| budget|        popularity|release_date|revenue|               title|\n",
      "+-----+-------+------------------+------------+-------+--------------------+\n",
      "|43000|      0|             2.503|  1962-05-23|      0|The Elusive Corporal|\n",
      "|43001|      0|              5.51|  1962-11-12|      0|  Sundays and Cybele|\n",
      "|43002|      0|              5.62|  1962-05-24|      0|Lonely Are the Brave|\n",
      "|43003|      0|             7.159|  1975-03-12|      0|          F for Fake|\n",
      "|43004| 500000|             3.988|  1962-10-09|      0|Long Day's Journe...|\n",
      "|43006|      0|             3.194|  1962-03-09|      0|           My Geisha|\n",
      "|43007|      0|             2.689|  1962-10-31|      0|Period of Adjustment|\n",
      "|43008|      0|             6.537|  1959-03-13|      0|    The Hanging Tree|\n",
      "|43010|      0|             4.297|  1962-01-01|      0|Sherlock Holmes a...|\n",
      "|43011|      0|             4.417|  1962-01-01|      0|  Sodom and Gomorrah|\n",
      "|43012|7000000|4.7219999999999995|  1962-11-21|4000000|         Taras Bulba|\n",
      "|43013|      0|             2.543|  1962-04-17|      0|The Counterfeit T...|\n",
      "|43014|      0|             4.303|  1962-10-24|      0|     Tower of London|\n",
      "|43015|      0|             3.493|  1962-12-07|      0|Varan the Unbelie...|\n",
      "|43016|      0|             2.851|  1962-01-01|      0|Waltz of the Tore...|\n",
      "|43017|      0|             4.047|  1961-10-11|      0|         Back Street|\n",
      "|43018|      0|             2.661|  1961-06-02|      0|Gidget Goes Hawaiian|\n",
      "|43019|      0|             3.225|  2010-05-28|      0|Schuks Tshabalala...|\n",
      "|43020|      0|              5.72|  1961-06-15|      0|The Colossus of R...|\n",
      "|43021|      0|             3.292|  2008-08-22|      0|          Sex Galaxy|\n",
      "+-----+-------+------------------+------------+-------+--------------------+\n",
      "only showing top 20 rows\n",
      "\n"
     ]
    }
   ],
   "source": [
    "df.show()"
   ]
  },
  {
   "cell_type": "code",
   "execution_count": 15,
   "id": "6325d61e-e5dc-480a-bb1e-178367610414",
   "metadata": {},
   "outputs": [
    {
     "name": "stdout",
     "output_type": "stream",
     "text": [
      "+-----+-------+------------------+------------+-------+--------------------+\n",
      "|   id| budget|        popularity|release_date|revenue|               title|\n",
      "+-----+-------+------------------+------------+-------+--------------------+\n",
      "|43000|      0|             2.503|  1962-05-23|      0|The Elusive Corporal|\n",
      "|43001|      0|              5.51|  1962-11-12|      0|  Sundays and Cybele|\n",
      "|43002|      0|              5.62|  1962-05-24|      0|Lonely Are the Brave|\n",
      "|43003|      0|             7.159|  1975-03-12|      0|          F for Fake|\n",
      "|43004| 500000|             3.988|  1962-10-09|      0|Long Day's Journe...|\n",
      "|43006|      0|             3.194|  1962-03-09|      0|           My Geisha|\n",
      "|43007|      0|             2.689|  1962-10-31|      0|Period of Adjustment|\n",
      "|43008|      0|             6.537|  1959-03-13|      0|    The Hanging Tree|\n",
      "|43010|      0|             4.297|  1962-01-01|      0|Sherlock Holmes a...|\n",
      "|43011|      0|             4.417|  1962-01-01|      0|  Sodom and Gomorrah|\n",
      "|43012|7000000|4.7219999999999995|  1962-11-21|4000000|         Taras Bulba|\n",
      "|43013|      0|             2.543|  1962-04-17|      0|The Counterfeit T...|\n",
      "|43014|      0|             4.303|  1962-10-24|      0|     Tower of London|\n",
      "|43015|      0|             3.493|  1962-12-07|      0|Varan the Unbelie...|\n",
      "|43016|      0|             2.851|  1962-01-01|      0|Waltz of the Tore...|\n",
      "|43017|      0|             4.047|  1961-10-11|      0|         Back Street|\n",
      "|43018|      0|             2.661|  1961-06-02|      0|Gidget Goes Hawaiian|\n",
      "|43019|      0|             3.225|  2010-05-28|      0|Schuks Tshabalala...|\n",
      "|43020|      0|              5.72|  1961-06-15|      0|The Colossus of R...|\n",
      "|43021|      0|             3.292|  2008-08-22|      0|          Sex Galaxy|\n",
      "+-----+-------+------------------+------------+-------+--------------------+\n",
      "only showing top 20 rows\n",
      "\n"
     ]
    }
   ],
   "source": [
    "df.select('id','budget','popularity','release_date','revenue','title').show()"
   ]
  },
  {
   "cell_type": "code",
   "execution_count": 19,
   "id": "acb866e3-0d16-4536-bd36-9fdca50f24cb",
   "metadata": {},
   "outputs": [
    {
     "name": "stdout",
     "output_type": "stream",
     "text": [
      "+-----+-------+------------------+------------+-------+--------------------+\n",
      "|   id| budget|        popularity|release_date|revenue|               title|\n",
      "+-----+-------+------------------+------------+-------+--------------------+\n",
      "|43000|      0|             2.503|  1962-05-23|      0|The Elusive Corporal|\n",
      "|43001|      0|              5.51|  1962-11-12|      0|  Sundays and Cybele|\n",
      "|43002|      0|              5.62|  1962-05-24|      0|Lonely Are the Brave|\n",
      "|43003|      0|             7.159|  1975-03-12|      0|          F for Fake|\n",
      "|43004| 500000|             3.988|  1962-10-09|      0|Long Day's Journe...|\n",
      "|43006|      0|             3.194|  1962-03-09|      0|           My Geisha|\n",
      "|43007|      0|             2.689|  1962-10-31|      0|Period of Adjustment|\n",
      "|43008|      0|             6.537|  1959-03-13|      0|    The Hanging Tree|\n",
      "|43010|      0|             4.297|  1962-01-01|      0|Sherlock Holmes a...|\n",
      "|43011|      0|             4.417|  1962-01-01|      0|  Sodom and Gomorrah|\n",
      "|43012|7000000|4.7219999999999995|  1962-11-21|4000000|         Taras Bulba|\n",
      "|43013|      0|             2.543|  1962-04-17|      0|The Counterfeit T...|\n",
      "|43014|      0|             4.303|  1962-10-24|      0|     Tower of London|\n",
      "|43015|      0|             3.493|  1962-12-07|      0|Varan the Unbelie...|\n",
      "|43016|      0|             2.851|  1962-01-01|      0|Waltz of the Tore...|\n",
      "|43017|      0|             4.047|  1961-10-11|      0|         Back Street|\n",
      "|43018|      0|             2.661|  1961-06-02|      0|Gidget Goes Hawaiian|\n",
      "|43019|      0|             3.225|  2010-05-28|      0|Schuks Tshabalala...|\n",
      "|43020|      0|              5.72|  1961-06-15|      0|The Colossus of R...|\n",
      "|43021|      0|             3.292|  2008-08-22|      0|          Sex Galaxy|\n",
      "+-----+-------+------------------+------------+-------+--------------------+\n",
      "only showing top 20 rows\n",
      "\n"
     ]
    }
   ],
   "source": [
    "df.select(df[2],df[1],df[6],df[9],df[10],df[14]).show()"
   ]
  },
  {
   "cell_type": "code",
   "execution_count": 22,
   "id": "2588fcc7-1d1d-47ba-b4ec-74438b38787d",
   "metadata": {},
   "outputs": [
    {
     "name": "stdout",
     "output_type": "stream",
     "text": [
      "+-----+-------+------------------+------------+-------+--------------------------------------------------------+\n",
      "|id   |budget |popularity        |release_date|revenue|title                                                   |\n",
      "+-----+-------+------------------+------------+-------+--------------------------------------------------------+\n",
      "|43000|0      |2.503             |1962-05-23  |0      |The Elusive Corporal                                    |\n",
      "|43001|0      |5.51              |1962-11-12  |0      |Sundays and Cybele                                      |\n",
      "|43002|0      |5.62              |1962-05-24  |0      |Lonely Are the Brave                                    |\n",
      "|43003|0      |7.159             |1975-03-12  |0      |F for Fake                                              |\n",
      "|43004|500000 |3.988             |1962-10-09  |0      |Long Day's Journey Into Night                           |\n",
      "|43006|0      |3.194             |1962-03-09  |0      |My Geisha                                               |\n",
      "|43007|0      |2.689             |1962-10-31  |0      |Period of Adjustment                                    |\n",
      "|43008|0      |6.537             |1959-03-13  |0      |The Hanging Tree                                        |\n",
      "|43010|0      |4.297             |1962-01-01  |0      |Sherlock Holmes and the Deadly Necklace                 |\n",
      "|43011|0      |4.417             |1962-01-01  |0      |Sodom and Gomorrah                                      |\n",
      "|43012|7000000|4.7219999999999995|1962-11-21  |4000000|Taras Bulba                                             |\n",
      "|43013|0      |2.543             |1962-04-17  |0      |The Counterfeit Traitor                                 |\n",
      "|43014|0      |4.303             |1962-10-24  |0      |Tower of London                                         |\n",
      "|43015|0      |3.493             |1962-12-07  |0      |Varan the Unbelievable                                  |\n",
      "|43016|0      |2.851             |1962-01-01  |0      |Waltz of the Toreadors                                  |\n",
      "|43017|0      |4.047             |1961-10-11  |0      |Back Street                                             |\n",
      "|43018|0      |2.661             |1961-06-02  |0      |Gidget Goes Hawaiian                                    |\n",
      "|43019|0      |3.225             |2010-05-28  |0      |Schuks Tshabalala's Survival Guide to South Africa      |\n",
      "|43020|0      |5.72              |1961-06-15  |0      |The Colossus of Rhodes                                  |\n",
      "|43021|0      |3.292             |2008-08-22  |0      |Sex Galaxy                                              |\n",
      "|43022|0      |1.548             |1961-06-11  |0      |King of the Roaring 20's – The Story of Arnold Rothstein|\n",
      "|43023|0      |3.559             |1961-01-01  |0      |Konga                                                   |\n",
      "|43026|0      |3.444             |1961-12-13  |0      |Paris Belongs to Us                                     |\n",
      "|43027|0      |2.512             |1961-05-05  |0      |Teen Kanya                                              |\n",
      "|43028|0      |6.234             |1961-08-01  |0      |Victim                                                  |\n",
      "+-----+-------+------------------+------------+-------+--------------------------------------------------------+\n",
      "only showing top 25 rows\n",
      "\n"
     ]
    }
   ],
   "source": [
    "df.show(25,False)"
   ]
  },
  {
   "cell_type": "markdown",
   "id": "d9a529e1-747b-4248-bde2-7d17a9e8d29d",
   "metadata": {},
   "source": [
    "# Functions"
   ]
  },
  {
   "cell_type": "code",
   "execution_count": 23,
   "id": "bd0a5080-e886-4cf3-bd7d-4b3b97b53d92",
   "metadata": {},
   "outputs": [],
   "source": [
    "from pyspark.sql.functions import *"
   ]
  },
  {
   "cell_type": "code",
   "execution_count": 24,
   "id": "bcf0827e-2d8c-4e9e-87ef-8ee4208e1943",
   "metadata": {},
   "outputs": [
    {
     "data": {
      "text/plain": [
       "215"
      ]
     },
     "execution_count": 24,
     "metadata": {},
     "output_type": "execute_result"
    }
   ],
   "source": [
    "df.filter((df['popularity']=='')|df['popularity'].isNull()|isnan(df['popularity'])).count()"
   ]
  },
  {
   "cell_type": "code",
   "execution_count": 25,
   "id": "0fe21d8e-3821-478c-b5d7-3d8a7c6898b3",
   "metadata": {},
   "outputs": [
    {
     "name": "stdout",
     "output_type": "stream",
     "text": [
      "+---+------+----------+------------+-------+-----+\n",
      "| id|budget|popularity|release_date|revenue|title|\n",
      "+---+------+----------+------------+-------+-----+\n",
      "|125|   125|       215|         221|    215|  304|\n",
      "+---+------+----------+------------+-------+-----+\n",
      "\n"
     ]
    }
   ],
   "source": [
    "df.select([count(when((col(c)=='')|col(c).isNull()|isnan(c),c)).alias(c) for c in df.columns]).show()"
   ]
  },
  {
   "cell_type": "code",
   "execution_count": 26,
   "id": "bbfafa9d-25d5-4e4c-9833-1b5011272900",
   "metadata": {},
   "outputs": [
    {
     "name": "stdout",
     "output_type": "stream",
     "text": [
      "+--------------------+-----+\n",
      "|               title|count|\n",
      "+--------------------+-----+\n",
      "|   The Corn Is Green|    1|\n",
      "|Meet The Browns -...|    1|\n",
      "|Morenita, El Esca...|    1|\n",
      "| Father Takes a Wife|    1|\n",
      "|The Werewolf of W...|    1|\n",
      "|My Wife Is a Gang...|    1|\n",
      "|Depeche Mode: Tou...|    1|\n",
      "|  A Woman Is a Woman|    1|\n",
      "|History Is Made a...|    1|\n",
      "|      Colombian Love|    1|\n",
      "|        Ace Attorney|    1|\n",
      "|     Not Like Others|    1|\n",
      "|40 Guns to Apache...|    1|\n",
      "|          Middle Men|    1|\n",
      "|         It's a Gift|    1|\n",
      "|    La Vie de Bohème|    1|\n",
      "|Rasputin: The Mad...|    1|\n",
      "|The Ballad of Jac...|    1|\n",
      "|         How to Deal|    1|\n",
      "|             Freaked|    1|\n",
      "+--------------------+-----+\n",
      "only showing top 20 rows\n",
      "\n"
     ]
    }
   ],
   "source": [
    "df.groupBy(df['title']).count().show()"
   ]
  },
  {
   "cell_type": "code",
   "execution_count": 29,
   "id": "4d1f73a4-045c-4536-a622-1db480fb0939",
   "metadata": {},
   "outputs": [
    {
     "name": "stdout",
     "output_type": "stream",
     "text": [
      "+--------------------+-----+\n",
      "|title               |count|\n",
      "+--------------------+-----+\n",
      "|null                |304  |\n",
      "|The Three Musketeers|8    |\n",
      "|Les Misérables      |8    |\n",
      "|Cinderella          |8    |\n",
      "|Hamlet              |7    |\n",
      "|Frankenstein        |7    |\n",
      "|A Christmas Carol   |7    |\n",
      "|The Island          |7    |\n",
      "|Dracula             |7    |\n",
      "|Framed              |6    |\n",
      "+--------------------+-----+\n",
      "only showing top 10 rows\n",
      "\n"
     ]
    }
   ],
   "source": [
    "df.groupby(df['title']).count().sort(desc(\"count\")).show(10,False)"
   ]
  },
  {
   "cell_type": "code",
   "execution_count": 30,
   "id": "3a5196ca-4242-4f60-91ec-e0922b92e909",
   "metadata": {},
   "outputs": [],
   "source": [
    "df_temp=df.filter((df['title']!='')&(df['title'].isNotNull())&(~isnan(df['title'])))"
   ]
  },
  {
   "cell_type": "code",
   "execution_count": 32,
   "id": "6f924aa5-60e5-4a08-be3e-026b98627ab4",
   "metadata": {},
   "outputs": [
    {
     "name": "stdout",
     "output_type": "stream",
     "text": [
      "+--------------------+-----+\n",
      "|title               |count|\n",
      "+--------------------+-----+\n",
      "|Cinderella          |8    |\n",
      "|The Three Musketeers|8    |\n",
      "|Les Misérables      |8    |\n",
      "|Hamlet              |7    |\n",
      "|Frankenstein        |7    |\n",
      "|The Island          |7    |\n",
      "|Dracula             |7    |\n",
      "|A Christmas Carol   |7    |\n",
      "|First Love          |6    |\n",
      "|Beauty and the Beast|6    |\n",
      "+--------------------+-----+\n",
      "only showing top 10 rows\n",
      "\n"
     ]
    }
   ],
   "source": [
    "df_temp.groupby(df_temp['title']).count().filter(\"`count`>4\").sort(col(\"count\").desc()).show(10,False)"
   ]
  },
  {
   "cell_type": "code",
   "execution_count": 33,
   "id": "4130603a-0a85-4ce1-88d6-7f5b125ec943",
   "metadata": {},
   "outputs": [],
   "source": [
    "df = df.withColumn('budget',df['budget'].cast(\"float\"))"
   ]
  },
  {
   "cell_type": "code",
   "execution_count": 34,
   "id": "8923d1a9-2a81-419c-9b1c-eca52222f879",
   "metadata": {},
   "outputs": [
    {
     "data": {
      "text/plain": [
       "[('id', 'string'),\n",
       " ('budget', 'float'),\n",
       " ('popularity', 'string'),\n",
       " ('release_date', 'string'),\n",
       " ('revenue', 'string'),\n",
       " ('title', 'string')]"
      ]
     },
     "execution_count": 34,
     "metadata": {},
     "output_type": "execute_result"
    }
   ],
   "source": [
    "df.dtypes"
   ]
  },
  {
   "cell_type": "markdown",
   "id": "acf41ca4-413d-4549-ac61-7b651853a7af",
   "metadata": {},
   "source": [
    "# Data types"
   ]
  },
  {
   "cell_type": "code",
   "execution_count": 35,
   "id": "d9a176b8-2b63-4174-b1b9-ba8ceab1d6db",
   "metadata": {},
   "outputs": [],
   "source": [
    "from pyspark.sql.types import *"
   ]
  },
  {
   "cell_type": "code",
   "execution_count": 36,
   "id": "35b42254-bbe1-4834-ac69-0c225b2f1813",
   "metadata": {},
   "outputs": [],
   "source": [
    "int_vars=['id']\n",
    "float_vars=['budget','popularity','revenue']\n",
    "date_vars=['release_date']"
   ]
  },
  {
   "cell_type": "code",
   "execution_count": 39,
   "id": "7cc0c5b0-8257-4ef9-9513-4cd2d7c3795b",
   "metadata": {},
   "outputs": [],
   "source": [
    "for column in int_vars:\n",
    "    df=df.withColumn(column,df[column].cast(IntegerType()))"
   ]
  },
  {
   "cell_type": "code",
   "execution_count": 40,
   "id": "3568f378-de1d-4421-a7fc-50a7204caa62",
   "metadata": {},
   "outputs": [],
   "source": [
    "for column in float_vars:\n",
    "    df=df.withColumn(column,df[column].cast(FloatType()))"
   ]
  },
  {
   "cell_type": "code",
   "execution_count": 41,
   "id": "b793afee-1158-4ac9-9181-001262783946",
   "metadata": {},
   "outputs": [],
   "source": [
    "for column in date_vars:\n",
    "    df=df.withColumn(column,df[column].cast(DateType()))"
   ]
  },
  {
   "cell_type": "code",
   "execution_count": 42,
   "id": "fe71837a-df35-46c9-8c6c-e0e19863d38e",
   "metadata": {},
   "outputs": [
    {
     "data": {
      "text/plain": [
       "[('id', 'int'),\n",
       " ('budget', 'float'),\n",
       " ('popularity', 'float'),\n",
       " ('release_date', 'date'),\n",
       " ('revenue', 'float'),\n",
       " ('title', 'string')]"
      ]
     },
     "execution_count": 42,
     "metadata": {},
     "output_type": "execute_result"
    }
   ],
   "source": [
    "df.dtypes"
   ]
  },
  {
   "cell_type": "code",
   "execution_count": 43,
   "id": "40a49400-ec94-41ae-8aed-035c0b696bc4",
   "metadata": {},
   "outputs": [
    {
     "name": "stdout",
     "output_type": "stream",
     "text": [
      "+-----+---------+----------+------------+---------+--------------------------------------------------------+\n",
      "|id   |budget   |popularity|release_date|revenue  |title                                                   |\n",
      "+-----+---------+----------+------------+---------+--------------------------------------------------------+\n",
      "|43000|0.0      |2.503     |1962-05-23  |0.0      |The Elusive Corporal                                    |\n",
      "|43001|0.0      |5.51      |1962-11-12  |0.0      |Sundays and Cybele                                      |\n",
      "|43002|0.0      |5.62      |1962-05-24  |0.0      |Lonely Are the Brave                                    |\n",
      "|43003|0.0      |7.159     |1975-03-12  |0.0      |F for Fake                                              |\n",
      "|43004|500000.0 |3.988     |1962-10-09  |0.0      |Long Day's Journey Into Night                           |\n",
      "|43006|0.0      |3.194     |1962-03-09  |0.0      |My Geisha                                               |\n",
      "|43007|0.0      |2.689     |1962-10-31  |0.0      |Period of Adjustment                                    |\n",
      "|43008|0.0      |6.537     |1959-03-13  |0.0      |The Hanging Tree                                        |\n",
      "|43010|0.0      |4.297     |1962-01-01  |0.0      |Sherlock Holmes and the Deadly Necklace                 |\n",
      "|43011|0.0      |4.417     |1962-01-01  |0.0      |Sodom and Gomorrah                                      |\n",
      "|43012|7000000.0|4.722     |1962-11-21  |4000000.0|Taras Bulba                                             |\n",
      "|43013|0.0      |2.543     |1962-04-17  |0.0      |The Counterfeit Traitor                                 |\n",
      "|43014|0.0      |4.303     |1962-10-24  |0.0      |Tower of London                                         |\n",
      "|43015|0.0      |3.493     |1962-12-07  |0.0      |Varan the Unbelievable                                  |\n",
      "|43016|0.0      |2.851     |1962-01-01  |0.0      |Waltz of the Toreadors                                  |\n",
      "|43017|0.0      |4.047     |1961-10-11  |0.0      |Back Street                                             |\n",
      "|43018|0.0      |2.661     |1961-06-02  |0.0      |Gidget Goes Hawaiian                                    |\n",
      "|43019|0.0      |3.225     |2010-05-28  |0.0      |Schuks Tshabalala's Survival Guide to South Africa      |\n",
      "|43020|0.0      |5.72      |1961-06-15  |0.0      |The Colossus of Rhodes                                  |\n",
      "|43021|0.0      |3.292     |2008-08-22  |0.0      |Sex Galaxy                                              |\n",
      "|43022|0.0      |1.548     |1961-06-11  |0.0      |King of the Roaring 20's – The Story of Arnold Rothstein|\n",
      "|43023|0.0      |3.559     |1961-01-01  |0.0      |Konga                                                   |\n",
      "|43026|0.0      |3.444     |1961-12-13  |0.0      |Paris Belongs to Us                                     |\n",
      "|43027|0.0      |2.512     |1961-05-05  |0.0      |Teen Kanya                                              |\n",
      "|43028|0.0      |6.234     |1961-08-01  |0.0      |Victim                                                  |\n",
      "+-----+---------+----------+------------+---------+--------------------------------------------------------+\n",
      "only showing top 25 rows\n",
      "\n"
     ]
    }
   ],
   "source": [
    "df.show(25,False)"
   ]
  },
  {
   "cell_type": "code",
   "execution_count": 55,
   "id": "5aa81e66-b75b-4486-ae43-9089c24860f8",
   "metadata": {},
   "outputs": [
    {
     "name": "stdout",
     "output_type": "stream",
     "text": [
      "+-------+------------------+--------------------+-----------------+-------------------+--------------------+\n",
      "|summary|                id|              budget|       popularity|            revenue|               title|\n",
      "+-------+------------------+--------------------+-----------------+-------------------+--------------------+\n",
      "|  count|             43784|               43873|            43783|              43783|               43694|\n",
      "|   mean|44502.304312077475|   3736901.834963167|5.295444259579189|  9697079.597382545|            Infinity|\n",
      "| stddev|27189.646588626394|1.5871814952777326E7|6.168030519208252|5.687938449628811E7|                 NaN|\n",
      "|    min|                 2|                 0.0|              0.6|                0.0|!Women Art Revolu...|\n",
      "|    max|            100988|               3.8E8|            180.0|       2.78796518E9|       시크릿 Secret|\n",
      "+-------+------------------+--------------------+-----------------+-------------------+--------------------+\n",
      "\n"
     ]
    }
   ],
   "source": [
    "df.describe().show()"
   ]
  },
  {
   "cell_type": "code",
   "execution_count": 45,
   "id": "82d77cfe-37d0-4d1f-98be-1ea53004f167",
   "metadata": {},
   "outputs": [
    {
     "name": "stdout",
     "output_type": "stream",
     "text": [
      "+-------+------------------+--------------------+-----------------+-------------------+--------------------+\n",
      "|summary|                id|              budget|       popularity|            revenue|               title|\n",
      "+-------+------------------+--------------------+-----------------+-------------------+--------------------+\n",
      "|  count|             43784|               43873|            43783|              43783|               43694|\n",
      "|   mean|44502.304312077475|   3736901.834963167|5.295444259579189|  9697079.597382545|            Infinity|\n",
      "| stddev|27189.646588626394|1.5871814952777326E7|6.168030519208252|5.687938449628811E7|                 NaN|\n",
      "|    min|                 2|                 0.0|              0.6|                0.0|!Women Art Revolu...|\n",
      "|    25%|             20949|                 0.0|            2.425|                0.0|                23.0|\n",
      "|    50%|             42424|                 0.0|            4.054|                0.0|               555.0|\n",
      "|    75%|             66160|                 0.0|            6.554|                0.0|              1941.0|\n",
      "|    max|            100988|               3.8E8|            180.0|       2.78796518E9|       시크릿 Secret|\n",
      "+-------+------------------+--------------------+-----------------+-------------------+--------------------+\n",
      "\n"
     ]
    }
   ],
   "source": [
    "df.summary().show()"
   ]
  },
  {
   "cell_type": "code",
   "execution_count": 46,
   "id": "f9120c1a-3ec4-4396-a170-074650a0e40c",
   "metadata": {},
   "outputs": [],
   "source": [
    "df_temp = df.filter((df['budget']!=0)&(df['budget'].isNotNull())&(~isnan(df['budget'])))"
   ]
  },
  {
   "cell_type": "code",
   "execution_count": 49,
   "id": "e07a108c-59b6-4b1b-b0dc-a5c32a61e6a5",
   "metadata": {},
   "outputs": [],
   "source": [
    "median = df_temp.approxQuantile('budget',[0.5],0.1)"
   ]
  },
  {
   "cell_type": "code",
   "execution_count": 50,
   "id": "e8d95a4f-554f-4e5f-9be9-773b418a3e5a",
   "metadata": {},
   "outputs": [
    {
     "name": "stdout",
     "output_type": "stream",
     "text": [
      "The median budget spent is [5000000.0]\n"
     ]
    }
   ],
   "source": [
    "print('The median budget spent is '+str(median))"
   ]
  },
  {
   "cell_type": "code",
   "execution_count": 51,
   "id": "ec33d6c2-f013-48e1-8778-32b2d579818f",
   "metadata": {},
   "outputs": [
    {
     "name": "stdout",
     "output_type": "stream",
     "text": [
      "+-----+\n",
      "|count|\n",
      "+-----+\n",
      "|41138|\n",
      "+-----+\n",
      "\n"
     ]
    }
   ],
   "source": [
    "df.agg(countDistinct(col(\"title\")).alias(\"count\")).show()"
   ]
  },
  {
   "cell_type": "code",
   "execution_count": 52,
   "id": "a7ff717a-393e-4cce-b3df-9ac87d5b04af",
   "metadata": {},
   "outputs": [
    {
     "name": "stdout",
     "output_type": "stream",
     "text": [
      "+---------------------------------------------+\n",
      "|title                                        |\n",
      "+---------------------------------------------+\n",
      "|The Corn Is Green                            |\n",
      "|Meet The Browns - The Play                   |\n",
      "|Morenita, El Escandalo                       |\n",
      "|Father Takes a Wife                          |\n",
      "|The Werewolf of Washington                   |\n",
      "|My Wife Is a Gangster                        |\n",
      "|Depeche Mode: Touring the Angel Live in Milan|\n",
      "|A Woman Is a Woman                           |\n",
      "|History Is Made at Night                     |\n",
      "|Colombian Love                               |\n",
      "+---------------------------------------------+\n",
      "only showing top 10 rows\n",
      "\n"
     ]
    }
   ],
   "source": [
    "df.select('title').distinct().show(10,False)"
   ]
  },
  {
   "cell_type": "code",
   "execution_count": 58,
   "id": "7e7e4964-7348-4822-8ec9-beef9ad6e292",
   "metadata": {},
   "outputs": [],
   "source": [
    "# Extract release year\n",
    "df_temp = df.withColumn('release_year',year('release_date'))"
   ]
  },
  {
   "cell_type": "code",
   "execution_count": 59,
   "id": "4ff38555-691d-475f-941e-7b03e08c8c76",
   "metadata": {},
   "outputs": [
    {
     "name": "stdout",
     "output_type": "stream",
     "text": [
      "+-----+---------+----------+------------+---------+--------------------+------------+\n",
      "|   id|   budget|popularity|release_date|  revenue|               title|release_year|\n",
      "+-----+---------+----------+------------+---------+--------------------+------------+\n",
      "|43000|      0.0|     2.503|  1962-05-23|      0.0|The Elusive Corporal|        1962|\n",
      "|43001|      0.0|      5.51|  1962-11-12|      0.0|  Sundays and Cybele|        1962|\n",
      "|43002|      0.0|      5.62|  1962-05-24|      0.0|Lonely Are the Brave|        1962|\n",
      "|43003|      0.0|     7.159|  1975-03-12|      0.0|          F for Fake|        1975|\n",
      "|43004| 500000.0|     3.988|  1962-10-09|      0.0|Long Day's Journe...|        1962|\n",
      "|43006|      0.0|     3.194|  1962-03-09|      0.0|           My Geisha|        1962|\n",
      "|43007|      0.0|     2.689|  1962-10-31|      0.0|Period of Adjustment|        1962|\n",
      "|43008|      0.0|     6.537|  1959-03-13|      0.0|    The Hanging Tree|        1959|\n",
      "|43010|      0.0|     4.297|  1962-01-01|      0.0|Sherlock Holmes a...|        1962|\n",
      "|43011|      0.0|     4.417|  1962-01-01|      0.0|  Sodom and Gomorrah|        1962|\n",
      "|43012|7000000.0|     4.722|  1962-11-21|4000000.0|         Taras Bulba|        1962|\n",
      "|43013|      0.0|     2.543|  1962-04-17|      0.0|The Counterfeit T...|        1962|\n",
      "|43014|      0.0|     4.303|  1962-10-24|      0.0|     Tower of London|        1962|\n",
      "|43015|      0.0|     3.493|  1962-12-07|      0.0|Varan the Unbelie...|        1962|\n",
      "|43016|      0.0|     2.851|  1962-01-01|      0.0|Waltz of the Tore...|        1962|\n",
      "|43017|      0.0|     4.047|  1961-10-11|      0.0|         Back Street|        1961|\n",
      "|43018|      0.0|     2.661|  1961-06-02|      0.0|Gidget Goes Hawaiian|        1961|\n",
      "|43019|      0.0|     3.225|  2010-05-28|      0.0|Schuks Tshabalala...|        2010|\n",
      "|43020|      0.0|      5.72|  1961-06-15|      0.0|The Colossus of R...|        1961|\n",
      "|43021|      0.0|     3.292|  2008-08-22|      0.0|          Sex Galaxy|        2008|\n",
      "+-----+---------+----------+------------+---------+--------------------+------------+\n",
      "only showing top 20 rows\n",
      "\n"
     ]
    }
   ],
   "source": [
    "df_temp.show()"
   ]
  },
  {
   "cell_type": "code",
   "execution_count": 60,
   "id": "d8c42309-17dd-4f47-82e0-4b2e16a79e16",
   "metadata": {},
   "outputs": [],
   "source": [
    "# Extract release year\n",
    "df_temp = df_temp.withColumn('release_month',month('release_date'))"
   ]
  },
  {
   "cell_type": "code",
   "execution_count": 61,
   "id": "62e6439f-783e-44b1-b9ce-5c6154830106",
   "metadata": {},
   "outputs": [],
   "source": [
    "# Extract release year\n",
    "df_temp = df_temp.withColumn('release_day',dayofmonth('release_date'))"
   ]
  },
  {
   "cell_type": "code",
   "execution_count": 62,
   "id": "fc9ec403-7daf-4bc7-89f8-1135d15edd83",
   "metadata": {},
   "outputs": [
    {
     "name": "stdout",
     "output_type": "stream",
     "text": [
      "+------------+------------+\n",
      "|release_year|count(title)|\n",
      "+------------+------------+\n",
      "|        1959|         271|\n",
      "|        1990|         496|\n",
      "|        1975|         365|\n",
      "|        1977|         415|\n",
      "|        1924|          19|\n",
      "|        2003|        1199|\n",
      "|        2007|        1896|\n",
      "|        2018|           4|\n",
      "|        1974|         434|\n",
      "|        2015|          13|\n",
      "|        1927|          30|\n",
      "|        1955|         247|\n",
      "|        2006|        1719|\n",
      "|        1978|         385|\n",
      "|        1925|          26|\n",
      "|        1961|         242|\n",
      "|        2013|         106|\n",
      "|        1942|         202|\n",
      "|        1939|         147|\n",
      "|        1944|         144|\n",
      "+------------+------------+\n",
      "only showing top 20 rows\n",
      "\n"
     ]
    }
   ],
   "source": [
    "#Distinct counts by the year\n",
    "df_temp.groupBy(\"release_year\").agg(countDistinct(\"title\")).show()"
   ]
  },
  {
   "cell_type": "code",
   "execution_count": 63,
   "id": "cb78197d-90f5-4fa7-b474-787cf108b232",
   "metadata": {},
   "outputs": [
    {
     "name": "stdout",
     "output_type": "stream",
     "text": [
      "+-----+---------+----------+------------+-----------+--------------------------+\n",
      "|id   |budget   |popularity|release_date|revenue    |title                     |\n",
      "+-----+---------+----------+------------+-----------+--------------------------+\n",
      "|43957|500000.0 |2.649     |2005-06-28  |1000000.0  |Meet The Browns - The Play|\n",
      "|39997|0.0      |3.585     |1989-11-15  |0.0        |Meet the Hollowheads      |\n",
      "|16710|0.0      |11.495    |2008-03-21  |4.1939392E7|Meet the Browns           |\n",
      "|20430|0.0      |3.614     |2004-01-29  |0.0        |Meet Market               |\n",
      "|76435|0.0      |1.775     |2011-03-31  |0.0        |Meet the In-Laws          |\n",
      "|76516|5000000.0|4.05      |1990-11-08  |485772.0   |Meet the Applegates       |\n",
      "|7278 |3.0E7    |11.116    |2008-01-24  |8.4646832E7|Meet the Spartans         |\n",
      "|32574|0.0      |7.42      |1941-03-14  |0.0        |Meet John Doe             |\n",
      "|40506|0.0      |4.814     |1997-01-31  |0.0        |Meet Wally Sparks         |\n",
      "|40688|2.4E7    |6.848     |1998-03-27  |4562146.0  |Meet the Deedles          |\n",
      "+-----+---------+----------+------------+-----------+--------------------------+\n",
      "only showing top 10 rows\n",
      "\n"
     ]
    }
   ],
   "source": [
    "df.filter(df['title'].like('Meet%')).show(10,False)"
   ]
  },
  {
   "cell_type": "code",
   "execution_count": 64,
   "id": "91679c3a-4f3b-480d-b8a3-d19d361210c3",
   "metadata": {},
   "outputs": [
    {
     "name": "stdout",
     "output_type": "stream",
     "text": [
      "+-----+---------+----------+------------+---------+--------------------+\n",
      "|   id|   budget|popularity|release_date|  revenue|               title|\n",
      "+-----+---------+----------+------------+---------+--------------------+\n",
      "|43000|      0.0|     2.503|  1962-05-23|      0.0|The Elusive Corporal|\n",
      "|43001|      0.0|      5.51|  1962-11-12|      0.0|  Sundays and Cybele|\n",
      "|43002|      0.0|      5.62|  1962-05-24|      0.0|Lonely Are the Brave|\n",
      "|43003|      0.0|     7.159|  1975-03-12|      0.0|          F for Fake|\n",
      "|43004| 500000.0|     3.988|  1962-10-09|      0.0|Long Day's Journe...|\n",
      "|43006|      0.0|     3.194|  1962-03-09|      0.0|           My Geisha|\n",
      "|43007|      0.0|     2.689|  1962-10-31|      0.0|Period of Adjustment|\n",
      "|43008|      0.0|     6.537|  1959-03-13|      0.0|    The Hanging Tree|\n",
      "|43010|      0.0|     4.297|  1962-01-01|      0.0|Sherlock Holmes a...|\n",
      "|43011|      0.0|     4.417|  1962-01-01|      0.0|  Sodom and Gomorrah|\n",
      "|43012|7000000.0|     4.722|  1962-11-21|4000000.0|         Taras Bulba|\n",
      "|43013|      0.0|     2.543|  1962-04-17|      0.0|The Counterfeit T...|\n",
      "|43014|      0.0|     4.303|  1962-10-24|      0.0|     Tower of London|\n",
      "|43015|      0.0|     3.493|  1962-12-07|      0.0|Varan the Unbelie...|\n",
      "|43017|      0.0|     4.047|  1961-10-11|      0.0|         Back Street|\n",
      "|43018|      0.0|     2.661|  1961-06-02|      0.0|Gidget Goes Hawaiian|\n",
      "|43019|      0.0|     3.225|  2010-05-28|      0.0|Schuks Tshabalala...|\n",
      "|43021|      0.0|     3.292|  2008-08-22|      0.0|          Sex Galaxy|\n",
      "|43022|      0.0|     1.548|  1961-06-11|      0.0|King of the Roari...|\n",
      "|43023|      0.0|     3.559|  1961-01-01|      0.0|               Konga|\n",
      "+-----+---------+----------+------------+---------+--------------------+\n",
      "only showing top 20 rows\n",
      "\n"
     ]
    }
   ],
   "source": [
    "df.filter(~df['title'].like('%s')).show()"
   ]
  },
  {
   "cell_type": "code",
   "execution_count": 65,
   "id": "c8651cd9-d1d7-406f-a43b-9bb0ee2998f9",
   "metadata": {},
   "outputs": [
    {
     "name": "stdout",
     "output_type": "stream",
     "text": [
      "+-----+------+----------+------------+------------+--------------------+\n",
      "|   id|budget|popularity|release_date|     revenue|               title|\n",
      "+-----+------+----------+------------+------------+--------------------+\n",
      "|43100|   0.0|     7.252|  1959-10-07|         0.0|General Della Rovere|\n",
      "|43152|   0.0|     5.126|  2001-06-21|         0.0|      Love on a Diet|\n",
      "|43191|   0.0|     4.921|  1952-08-29|         0.0|   Beware, My Lovely|\n",
      "|43281|   0.0|     2.411|  1989-11-22|         0.0|   Love Without Pity|\n",
      "|43343|   0.0|     3.174|  1953-12-25|         0.0|        Easy to Love|\n",
      "|43347| 3.0E7|    14.863|  2010-11-22|1.02820008E8|  Love & Other Drugs|\n",
      "|43362|   0.0|     1.705|  1952-02-23|         0.0|Love Is Better Th...|\n",
      "|43363|   0.0|      2.02|  1952-05-29|         0.0|   Lovely to Look At|\n",
      "|43395|   0.0|     4.758|  1950-11-10|         0.0| Two Weeks with Love|\n",
      "|43455|   0.0|     4.669|  1948-08-23|         0.0| The Loves of Carmen|\n",
      "|43483|   0.0|     3.161|  1946-12-25|         0.0|Love Laughs at An...|\n",
      "|43547|   0.0|     7.635|  2009-01-30|         0.0|Between Love & Go...|\n",
      "|43556|   0.0|     2.418|  2006-10-31|         0.0|Joe Satriani - Li...|\n",
      "|43561|   0.0|     8.475|  2004-12-17|         0.0|   Christmas in Love|\n",
      "|43609|   0.0|     5.684|  2010-04-07|         0.0|    My Own Love Song|\n",
      "|43652|   0.0|     3.097|  2009-11-19|         0.0| Beloved Berlin Wall|\n",
      "|43739|   0.0|     4.514|  1939-04-07|         0.0|         Love Affair|\n",
      "|43742| 6.0E7|     3.723|  1994-10-21|         0.0|         Love Affair|\n",
      "|43764|   0.0|      0.73|  2006-01-01|         0.0|The Fish Fall in ...|\n",
      "|43787|   0.0|     5.769|  1942-11-19|         0.0|You Were Never Lo...|\n",
      "+-----+------+----------+------------+------------+--------------------+\n",
      "only showing top 20 rows\n",
      "\n"
     ]
    }
   ],
   "source": [
    "df.filter(df['title'].rlike('\\w*ove')).show()"
   ]
  },
  {
   "cell_type": "code",
   "execution_count": 66,
   "id": "db422622-ac39-4e8d-8b76-2d4aca346454",
   "metadata": {},
   "outputs": [
    {
     "name": "stdout",
     "output_type": "stream",
     "text": [
      "+-----+------+----------+------------+------------+--------------------+\n",
      "|   id|budget|popularity|release_date|     revenue|               title|\n",
      "+-----+------+----------+------------+------------+--------------------+\n",
      "|43100|   0.0|     7.252|  1959-10-07|         0.0|General Della Rovere|\n",
      "|43152|   0.0|     5.126|  2001-06-21|         0.0|      Love on a Diet|\n",
      "|43191|   0.0|     4.921|  1952-08-29|         0.0|   Beware, My Lovely|\n",
      "|43281|   0.0|     2.411|  1989-11-22|         0.0|   Love Without Pity|\n",
      "|43343|   0.0|     3.174|  1953-12-25|         0.0|        Easy to Love|\n",
      "|43347| 3.0E7|    14.863|  2010-11-22|1.02820008E8|  Love & Other Drugs|\n",
      "|43362|   0.0|     1.705|  1952-02-23|         0.0|Love Is Better Th...|\n",
      "|43363|   0.0|      2.02|  1952-05-29|         0.0|   Lovely to Look At|\n",
      "|43395|   0.0|     4.758|  1950-11-10|         0.0| Two Weeks with Love|\n",
      "|43455|   0.0|     4.669|  1948-08-23|         0.0| The Loves of Carmen|\n",
      "|43483|   0.0|     3.161|  1946-12-25|         0.0|Love Laughs at An...|\n",
      "|43547|   0.0|     7.635|  2009-01-30|         0.0|Between Love & Go...|\n",
      "|43556|   0.0|     2.418|  2006-10-31|         0.0|Joe Satriani - Li...|\n",
      "|43561|   0.0|     8.475|  2004-12-17|         0.0|   Christmas in Love|\n",
      "|43609|   0.0|     5.684|  2010-04-07|         0.0|    My Own Love Song|\n",
      "|43652|   0.0|     3.097|  2009-11-19|         0.0| Beloved Berlin Wall|\n",
      "|43739|   0.0|     4.514|  1939-04-07|         0.0|         Love Affair|\n",
      "|43742| 6.0E7|     3.723|  1994-10-21|         0.0|         Love Affair|\n",
      "|43764|   0.0|      0.73|  2006-01-01|         0.0|The Fish Fall in ...|\n",
      "|43787|   0.0|     5.769|  1942-11-19|         0.0|You Were Never Lo...|\n",
      "+-----+------+----------+------------+------------+--------------------+\n",
      "only showing top 20 rows\n",
      "\n"
     ]
    }
   ],
   "source": [
    "df.filter(df.title.contains('ove')).show()"
   ]
  },
  {
   "cell_type": "code",
   "execution_count": 70,
   "id": "94c334a4-9388-4644-a37a-c01d7fd3df60",
   "metadata": {},
   "outputs": [
    {
     "name": "stdout",
     "output_type": "stream",
     "text": [
      "root\n",
      " |-- release_date: date (nullable = true)\n",
      " |-- revenue: float (nullable = true)\n",
      "\n"
     ]
    }
   ],
   "source": [
    "# Identify set of columns\n",
    "df.select(df.colRegex(\"`re\\w*`\")).printSchema()"
   ]
  },
  {
   "cell_type": "code",
   "execution_count": 71,
   "id": "974bcf06-2a3e-4809-9c6b-a494d45e643f",
   "metadata": {},
   "outputs": [
    {
     "name": "stdout",
     "output_type": "stream",
     "text": [
      "root\n",
      " |-- release_date: date (nullable = true)\n",
      " |-- revenue: float (nullable = true)\n",
      " |-- title: string (nullable = true)\n",
      "\n"
     ]
    }
   ],
   "source": [
    "# Identify set of columns\n",
    "df.select(df.colRegex(\"`\\w*e`\")).printSchema()"
   ]
  },
  {
   "cell_type": "code",
   "execution_count": 72,
   "id": "13413a14-e789-4852-bc50-8b191723a32a",
   "metadata": {},
   "outputs": [],
   "source": [
    "mean_pop = df.agg({'popularity':'mean'}).collect()[0]['avg(popularity)']"
   ]
  },
  {
   "cell_type": "code",
   "execution_count": 73,
   "id": "1c98030a-9216-4a35-be00-6fe03e8ed3fd",
   "metadata": {},
   "outputs": [
    {
     "data": {
      "text/plain": [
       "5.295444259579189"
      ]
     },
     "execution_count": 73,
     "metadata": {},
     "output_type": "execute_result"
    }
   ],
   "source": [
    "mean_pop"
   ]
  },
  {
   "cell_type": "code",
   "execution_count": 74,
   "id": "fcf3f33c-94f8-417a-86cb-25af120d452d",
   "metadata": {},
   "outputs": [],
   "source": [
    "count_obs=df.count()"
   ]
  },
  {
   "cell_type": "code",
   "execution_count": 75,
   "id": "c9bc3280-c3c9-4d99-8e43-58337bf51035",
   "metadata": {},
   "outputs": [],
   "source": [
    "df = df.withColumn('mean_popularity',lit(mean_pop))"
   ]
  },
  {
   "cell_type": "code",
   "execution_count": 76,
   "id": "26a6e373-1234-42a1-bf2b-cabcde522f35",
   "metadata": {},
   "outputs": [],
   "source": [
    "df=df.withColumn('variance',pow((df['popularity']-df['mean_popularity']),2))"
   ]
  },
  {
   "cell_type": "code",
   "execution_count": 78,
   "id": "78ba008a-ceb3-4470-b22b-bf898ce0a5b4",
   "metadata": {},
   "outputs": [],
   "source": [
    "variance_sum=df.agg({'variance':'sum'}).collect()[0]['sum(variance)']"
   ]
  },
  {
   "cell_type": "code",
   "execution_count": 79,
   "id": "27a277f0-a612-437f-ac90-11e4b5087dce",
   "metadata": {},
   "outputs": [],
   "source": [
    "variance_population=variance_sum/(count_obs-1)"
   ]
  },
  {
   "cell_type": "code",
   "execution_count": 80,
   "id": "bf826f21-04f9-46ef-b3f6-c122160550f9",
   "metadata": {},
   "outputs": [
    {
     "data": {
      "text/plain": [
       "37.858688057662825"
      ]
     },
     "execution_count": 80,
     "metadata": {},
     "output_type": "execute_result"
    }
   ],
   "source": [
    "variance_population"
   ]
  },
  {
   "cell_type": "code",
   "execution_count": 81,
   "id": "007d2365-36a5-4282-b78e-dde35037592e",
   "metadata": {},
   "outputs": [],
   "source": [
    "def new_cols(budget,popularity):\n",
    "    if budget<10000000: budget_cat='Small'\n",
    "    elif budget <100000000: budget_cat='Medium'\n",
    "    else: budget_cat='Big'\n",
    "    if popularity<3: ratings='Low'\n",
    "    elif popularity<5: ratings='Mid'\n",
    "    else: ratings='High'\n",
    "    return budget_cat,ratings"
   ]
  },
  {
   "cell_type": "code",
   "execution_count": 82,
   "id": "d20cb024-96e6-4ddf-a1e0-7303a1028a78",
   "metadata": {},
   "outputs": [],
   "source": [
    "udfB = udf(new_cols, StructType([StructField(\"budget_cat\", StringType(),True),StructField(\"ratings\",StringType(),True)]))"
   ]
  },
  {
   "cell_type": "code",
   "execution_count": 84,
   "id": "f884340c-9917-480d-8aa8-edc35e4ae782",
   "metadata": {},
   "outputs": [],
   "source": [
    "temp_df = df.select('id','budget','popularity').withColumn(\"newcat\",udfB(\"budget\",\"popularity\"))"
   ]
  },
  {
   "cell_type": "code",
   "execution_count": 86,
   "id": "e3c4e81a-115b-4d2d-96e3-be5631ec0990",
   "metadata": {},
   "outputs": [],
   "source": [
    "df_with_newcols = temp_df.select('id','budget','popularity','newcat').withColumn('budget_cat',\n",
    "                                                                                 temp_df.newcat.getItem('budget_cat')).withColumn('ratings',temp_df.newcat.getItem('ratings')).drop('newcat')\n",
    "                                                                    "
   ]
  },
  {
   "cell_type": "code",
   "execution_count": 87,
   "id": "b52be4bf-5715-4654-899a-4df704ec1e2e",
   "metadata": {},
   "outputs": [
    {
     "name": "stdout",
     "output_type": "stream",
     "text": [
      "+-----+---------+----------+----------+-------+\n",
      "|   id|   budget|popularity|budget_cat|ratings|\n",
      "+-----+---------+----------+----------+-------+\n",
      "|43000|      0.0|     2.503|     Small|    Low|\n",
      "|43001|      0.0|      5.51|     Small|   High|\n",
      "|43002|      0.0|      5.62|     Small|   High|\n",
      "|43003|      0.0|     7.159|     Small|   High|\n",
      "|43004| 500000.0|     3.988|     Small|    Mid|\n",
      "|43006|      0.0|     3.194|     Small|    Mid|\n",
      "|43007|      0.0|     2.689|     Small|    Low|\n",
      "|43008|      0.0|     6.537|     Small|   High|\n",
      "|43010|      0.0|     4.297|     Small|    Mid|\n",
      "|43011|      0.0|     4.417|     Small|    Mid|\n",
      "|43012|7000000.0|     4.722|     Small|    Mid|\n",
      "|43013|      0.0|     2.543|     Small|    Low|\n",
      "|43014|      0.0|     4.303|     Small|    Mid|\n",
      "|43015|      0.0|     3.493|     Small|    Mid|\n",
      "|43016|      0.0|     2.851|     Small|    Low|\n",
      "|43017|      0.0|     4.047|     Small|    Mid|\n",
      "|43018|      0.0|     2.661|     Small|    Low|\n",
      "|43019|      0.0|     3.225|     Small|    Mid|\n",
      "|43020|      0.0|      5.72|     Small|   High|\n",
      "|43021|      0.0|     3.292|     Small|    Mid|\n",
      "+-----+---------+----------+----------+-------+\n",
      "only showing top 20 rows\n",
      "\n"
     ]
    }
   ],
   "source": [
    "df_with_newcols.show()\n"
   ]
  },
  {
   "cell_type": "code",
   "execution_count": 93,
   "id": "98dad885-84a2-4f83-82e4-bdea0d87e0ad",
   "metadata": {},
   "outputs": [],
   "source": [
    "df_with_newcols = temp_df.select('id','budget','popularity','newcat').withColumn('budget_cat',\n",
    "                                                                                 when(df['budget']<100000000,'Small').when(df['budget']<1000000000,'Medium').otherwise('Big')).withColumn('ratings',when(df['popularity']<3,'Low').when(df['popularity']<5,'Mid').otherwise('High')).drop('newcat')\n",
    "                                                                    "
   ]
  },
  {
   "cell_type": "code",
   "execution_count": 94,
   "id": "4ecab414-fa15-4ef2-9ea9-0fdf78a875c0",
   "metadata": {},
   "outputs": [
    {
     "name": "stdout",
     "output_type": "stream",
     "text": [
      "+-----+---------+----------+----------+-------+\n",
      "|   id|   budget|popularity|budget_cat|ratings|\n",
      "+-----+---------+----------+----------+-------+\n",
      "|43000|      0.0|     2.503|     Small|    Low|\n",
      "|43001|      0.0|      5.51|     Small|   High|\n",
      "|43002|      0.0|      5.62|     Small|   High|\n",
      "|43003|      0.0|     7.159|     Small|   High|\n",
      "|43004| 500000.0|     3.988|     Small|    Mid|\n",
      "|43006|      0.0|     3.194|     Small|    Mid|\n",
      "|43007|      0.0|     2.689|     Small|    Low|\n",
      "|43008|      0.0|     6.537|     Small|   High|\n",
      "|43010|      0.0|     4.297|     Small|    Mid|\n",
      "|43011|      0.0|     4.417|     Small|    Mid|\n",
      "|43012|7000000.0|     4.722|     Small|    Mid|\n",
      "|43013|      0.0|     2.543|     Small|    Low|\n",
      "|43014|      0.0|     4.303|     Small|    Mid|\n",
      "|43015|      0.0|     3.493|     Small|    Mid|\n",
      "|43016|      0.0|     2.851|     Small|    Low|\n",
      "|43017|      0.0|     4.047|     Small|    Mid|\n",
      "|43018|      0.0|     2.661|     Small|    Low|\n",
      "|43019|      0.0|     3.225|     Small|    Mid|\n",
      "|43020|      0.0|      5.72|     Small|   High|\n",
      "|43021|      0.0|     3.292|     Small|    Mid|\n",
      "+-----+---------+----------+----------+-------+\n",
      "only showing top 20 rows\n",
      "\n"
     ]
    }
   ],
   "source": [
    "df_with_newcols.show()"
   ]
  },
  {
   "cell_type": "code",
   "execution_count": 88,
   "id": "e12fea53-0f53-4926-8545-f5bfed039733",
   "metadata": {},
   "outputs": [],
   "source": [
    "columns_to_drop=['budget_cat']\n",
    "df_with_newcols = df_with_newcols.drop(*columns_to_drop)"
   ]
  },
  {
   "cell_type": "code",
   "execution_count": 89,
   "id": "246c6add-c42d-4316-91cb-ddcee1ac15b6",
   "metadata": {},
   "outputs": [],
   "source": [
    "df_with_newcols =df_with_newcols.withColumnRenamed('id','film_id').withColumnRenamed('ratings','film_ratings')"
   ]
  },
  {
   "cell_type": "code",
   "execution_count": 90,
   "id": "2053eb46-25d8-468c-8923-e97ba70f4904",
   "metadata": {},
   "outputs": [
    {
     "name": "stdout",
     "output_type": "stream",
     "text": [
      "+-------+---------+----------+------------+\n",
      "|film_id|   budget|popularity|film_ratings|\n",
      "+-------+---------+----------+------------+\n",
      "|  43000|      0.0|     2.503|         Low|\n",
      "|  43001|      0.0|      5.51|        High|\n",
      "|  43002|      0.0|      5.62|        High|\n",
      "|  43003|      0.0|     7.159|        High|\n",
      "|  43004| 500000.0|     3.988|         Mid|\n",
      "|  43006|      0.0|     3.194|         Mid|\n",
      "|  43007|      0.0|     2.689|         Low|\n",
      "|  43008|      0.0|     6.537|        High|\n",
      "|  43010|      0.0|     4.297|         Mid|\n",
      "|  43011|      0.0|     4.417|         Mid|\n",
      "|  43012|7000000.0|     4.722|         Mid|\n",
      "|  43013|      0.0|     2.543|         Low|\n",
      "|  43014|      0.0|     4.303|         Mid|\n",
      "|  43015|      0.0|     3.493|         Mid|\n",
      "|  43016|      0.0|     2.851|         Low|\n",
      "|  43017|      0.0|     4.047|         Mid|\n",
      "|  43018|      0.0|     2.661|         Low|\n",
      "|  43019|      0.0|     3.225|         Mid|\n",
      "|  43020|      0.0|      5.72|        High|\n",
      "|  43021|      0.0|     3.292|         Mid|\n",
      "+-------+---------+----------+------------+\n",
      "only showing top 20 rows\n",
      "\n"
     ]
    }
   ],
   "source": [
    "df_with_newcols.show()"
   ]
  },
  {
   "cell_type": "code",
   "execution_count": 91,
   "id": "69db2fe6-9ef0-4a61-92e2-dfeac2b53d4e",
   "metadata": {},
   "outputs": [],
   "source": [
    "#multiple column names\n",
    "new_names = [('budget','film_budget'),('popularity','film_popularity')]\n",
    "df_with_newcols_renamed = df_with_newcols.select(list(map(lambda old,new:col(old).alias(new),*zip(*new_names))))"
   ]
  },
  {
   "cell_type": "code",
   "execution_count": 92,
   "id": "9afd1da6-78e1-442b-ad54-ef5d6440a03a",
   "metadata": {},
   "outputs": [
    {
     "name": "stdout",
     "output_type": "stream",
     "text": [
      "+-----------+---------------+\n",
      "|film_budget|film_popularity|\n",
      "+-----------+---------------+\n",
      "|        0.0|          2.503|\n",
      "|        0.0|           5.51|\n",
      "|        0.0|           5.62|\n",
      "|        0.0|          7.159|\n",
      "|   500000.0|          3.988|\n",
      "|        0.0|          3.194|\n",
      "|        0.0|          2.689|\n",
      "|        0.0|          6.537|\n",
      "|        0.0|          4.297|\n",
      "|        0.0|          4.417|\n",
      "|  7000000.0|          4.722|\n",
      "|        0.0|          2.543|\n",
      "|        0.0|          4.303|\n",
      "|        0.0|          3.493|\n",
      "|        0.0|          2.851|\n",
      "|        0.0|          4.047|\n",
      "|        0.0|          2.661|\n",
      "|        0.0|          3.225|\n",
      "|        0.0|           5.72|\n",
      "|        0.0|          3.292|\n",
      "+-----------+---------------+\n",
      "only showing top 20 rows\n",
      "\n"
     ]
    }
   ],
   "source": [
    "df_with_newcols_renamed.show()"
   ]
  },
  {
   "cell_type": "code",
   "execution_count": null,
   "id": "b1285c60-d7d8-4dbb-8147-1e1a5301b1ba",
   "metadata": {},
   "outputs": [],
   "source": []
  }
 ],
 "metadata": {
  "kernelspec": {
   "display_name": "Python 3 (ipykernel)",
   "language": "python",
   "name": "python3"
  },
  "language_info": {
   "codemirror_mode": {
    "name": "ipython",
    "version": 3
   },
   "file_extension": ".py",
   "mimetype": "text/x-python",
   "name": "python",
   "nbconvert_exporter": "python",
   "pygments_lexer": "ipython3",
   "version": "3.9.10"
  }
 },
 "nbformat": 4,
 "nbformat_minor": 5
}
