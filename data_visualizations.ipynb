{
 "cells": [
  {
   "cell_type": "code",
   "execution_count": 9,
   "id": "84f4e4fa-5ba0-4720-8761-7cf6e5e29c54",
   "metadata": {},
   "outputs": [],
   "source": [
    "from pyspark.sql import SparkSession\n",
    "from pyspark.sql.functions import *"
   ]
  },
  {
   "cell_type": "code",
   "execution_count": 2,
   "id": "934955b7-6894-4de4-ac6a-470353f31d00",
   "metadata": {},
   "outputs": [],
   "source": [
    "spark = SparkSession.builder.appName(\"Data_Visualizations\").getOrCreate()"
   ]
  },
  {
   "cell_type": "code",
   "execution_count": 3,
   "id": "d1922555-cde7-456d-833b-20fb1f3b8dfb",
   "metadata": {},
   "outputs": [],
   "source": [
    "file_location = \"movie_data_part1.csv\"\n",
    "file_type = \"csv\"\n",
    "infer_schema=\"False\"\n",
    "first_row_is_header=\"True\"\n",
    "delimeter=\"|\""
   ]
  },
  {
   "cell_type": "code",
   "execution_count": 4,
   "id": "f7c4ba1b-4394-41ea-a789-4e0ea4d630c8",
   "metadata": {},
   "outputs": [],
   "source": [
    "df = spark.read.format(file_type)\\\n",
    ".option(\"inferSchema\",infer_schema)\\\n",
    ".option(\"header\",first_row_is_header)\\\n",
    ".option(\"sep\",delimeter)\\\n",
    ".load(file_location)"
   ]
  },
  {
   "cell_type": "code",
   "execution_count": 5,
   "id": "9b525cc5-f1f6-4328-9530-1c4661faedf3",
   "metadata": {},
   "outputs": [],
   "source": [
    "select_columns = ['id','budget','popularity','release_date','revenue','title']"
   ]
  },
  {
   "cell_type": "code",
   "execution_count": 6,
   "id": "adb3ba80-c71b-4edc-821a-e4100eb12fe2",
   "metadata": {},
   "outputs": [],
   "source": [
    "df=df.select(*select_columns)"
   ]
  },
  {
   "cell_type": "code",
   "execution_count": 10,
   "id": "75e917b9-588f-4405-b0c9-439bf6b677f5",
   "metadata": {},
   "outputs": [],
   "source": [
    "df_with_newcols = df.select('id','budget','popularity').withColumn('budget_cat',when(df['budget']<100000000,'Small').when(df['budget']<1000000000,'Medium').otherwise('Big')).withColumn('ratings',when(df['popularity']<3,'Low').when(df['popularity']<5,'Mid').otherwise('High'))\n",
    "                                                                    "
   ]
  },
  {
   "cell_type": "code",
   "execution_count": 11,
   "id": "3a74404b-77a5-4a17-8785-c60847f95c3e",
   "metadata": {},
   "outputs": [],
   "source": [
    "df_with_newcols = df_with_newcols.withColumn(\"BudgetRating_Category\", concat(df_with_newcols.budget_cat,df_with_newcols.ratings))"
   ]
  },
  {
   "cell_type": "code",
   "execution_count": 12,
   "id": "ac96ccc7-5d6c-4fbc-b2d8-70f007730713",
   "metadata": {},
   "outputs": [],
   "source": [
    "df_with_newcols=df_with_newcols.withColumn(\"BudgetRating_Category\",trim(lower(df_with_newcols.BudgetRating_Category)))"
   ]
  },
  {
   "cell_type": "code",
   "execution_count": 13,
   "id": "7ab4f6d1-a1e0-4771-b358-7485a6217ac5",
   "metadata": {},
   "outputs": [
    {
     "name": "stdout",
     "output_type": "stream",
     "text": [
      "+-----+-------+------------------+----------+-------+---------------------+\n",
      "|   id| budget|        popularity|budget_cat|ratings|BudgetRating_Category|\n",
      "+-----+-------+------------------+----------+-------+---------------------+\n",
      "|43000|      0|             2.503|     Small|    Low|             smalllow|\n",
      "|43001|      0|              5.51|     Small|   High|            smallhigh|\n",
      "|43002|      0|              5.62|     Small|   High|            smallhigh|\n",
      "|43003|      0|             7.159|     Small|   High|            smallhigh|\n",
      "|43004| 500000|             3.988|     Small|    Mid|             smallmid|\n",
      "|43006|      0|             3.194|     Small|    Mid|             smallmid|\n",
      "|43007|      0|             2.689|     Small|    Low|             smalllow|\n",
      "|43008|      0|             6.537|     Small|   High|            smallhigh|\n",
      "|43010|      0|             4.297|     Small|    Mid|             smallmid|\n",
      "|43011|      0|             4.417|     Small|    Mid|             smallmid|\n",
      "|43012|7000000|4.7219999999999995|     Small|    Mid|             smallmid|\n",
      "|43013|      0|             2.543|     Small|    Low|             smalllow|\n",
      "|43014|      0|             4.303|     Small|    Mid|             smallmid|\n",
      "|43015|      0|             3.493|     Small|    Mid|             smallmid|\n",
      "|43016|      0|             2.851|     Small|    Low|             smalllow|\n",
      "|43017|      0|             4.047|     Small|    Mid|             smallmid|\n",
      "|43018|      0|             2.661|     Small|    Low|             smalllow|\n",
      "|43019|      0|             3.225|     Small|    Mid|             smallmid|\n",
      "|43020|      0|              5.72|     Small|   High|            smallhigh|\n",
      "|43021|      0|             3.292|     Small|    Mid|             smallmid|\n",
      "+-----+-------+------------------+----------+-------+---------------------+\n",
      "only showing top 20 rows\n",
      "\n"
     ]
    }
   ],
   "source": [
    "df_with_newcols.show()"
   ]
  },
  {
   "cell_type": "markdown",
   "id": "695105a4-ef03-4e0a-b8cc-1d11afe2bbd9",
   "metadata": {},
   "source": [
    "# Register a Temporary table"
   ]
  },
  {
   "cell_type": "code",
   "execution_count": 15,
   "id": "88bc5bee-2d39-4c41-9aac-d8061628fb6c",
   "metadata": {},
   "outputs": [],
   "source": [
    "df_with_newcols.createOrReplaceTempView('temp_data')"
   ]
  },
  {
   "cell_type": "code",
   "execution_count": 17,
   "id": "7fe3d963-7424-49c9-818b-844f49f6122c",
   "metadata": {},
   "outputs": [
    {
     "name": "stdout",
     "output_type": "stream",
     "text": [
      "+-------+--------------+\n",
      "|ratings|count(ratings)|\n",
      "+-------+--------------+\n",
      "|   High|         16856|\n",
      "|    Low|         14865|\n",
      "|    Mid|         12277|\n",
      "+-------+--------------+\n",
      "\n"
     ]
    }
   ],
   "source": [
    "spark.sql('select\\\n",
    "                ratings,\\\n",
    "                count(ratings)\\\n",
    "            from\\\n",
    "                temp_data group by ratings').show()"
   ]
  },
  {
   "cell_type": "markdown",
   "id": "771b470e-ea21-4722-9fa6-bf14a9c93966",
   "metadata": {},
   "source": [
    "# Importing window functions"
   ]
  },
  {
   "cell_type": "code",
   "execution_count": 18,
   "id": "cd3da39a-1d48-4b2f-819b-8ba74c292ff9",
   "metadata": {},
   "outputs": [],
   "source": [
    "from pyspark.sql.window import *"
   ]
  },
  {
   "cell_type": "code",
   "execution_count": 19,
   "id": "95659641-dbc2-444a-8890-050f84803dd0",
   "metadata": {},
   "outputs": [],
   "source": [
    "#Filtering missing values\n",
    "df_with_newcols = df_with_newcols.filter((df_with_newcols['popularity'].isNotNull()) & (~isnan(df_with_newcols['popularity'])))"
   ]
  },
  {
   "cell_type": "code",
   "execution_count": 21,
   "id": "c46085ca-8eed-4260-b4e3-cb7cd1f05623",
   "metadata": {},
   "outputs": [],
   "source": [
    "df_with_newcols = df_with_newcols.select(\"id\",\"budget\",\"popularity\",ntile(10).over(Window.partitionBy().orderBy(df_with_newcols['popularity'].desc())).alias(\"decile_rank\"))"
   ]
  },
  {
   "cell_type": "code",
   "execution_count": 22,
   "id": "0a5e99b8-d0ee-4023-97e8-1aa48b038ede",
   "metadata": {},
   "outputs": [
    {
     "name": "stdout",
     "output_type": "stream",
     "text": [
      "+-----------+------------------+--------------+-----------------+\n",
      "|decile_rank|    min_popularity|max_popularity|count(popularity)|\n",
      "+-----------+------------------+--------------+-----------------+\n",
      "|          1|             7.402|            99|             4379|\n",
      "|          2|             5.792|         7.401|             4379|\n",
      "|          3|             4.792|         5.792|             4379|\n",
      "|          4|             4.024|         4.792|             4378|\n",
      "|          5|             3.371|         4.024|             4378|\n",
      "|          6|             2.779|          3.37|             4378|\n",
      "|          7|             2.108|         2.779|             4378|\n",
      "|          8|            10.422|         2.108|             4378|\n",
      "|          9|             1.389|         10.42|             4378|\n",
      "|         10|0.6000000000000001|         1.389|             4378|\n",
      "+-----------+------------------+--------------+-----------------+\n",
      "\n"
     ]
    }
   ],
   "source": [
    "df_with_newcols.groupby(\"decile_rank\").agg(min('popularity').alias('min_popularity'),max('popularity').alias('max_popularity'),count('popularity')).show()"
   ]
  },
  {
   "cell_type": "code",
   "execution_count": null,
   "id": "c8d4cc61-7211-47c2-b915-ac7881cbd027",
   "metadata": {},
   "outputs": [],
   "source": []
  }
 ],
 "metadata": {
  "kernelspec": {
   "display_name": "Python 3 (ipykernel)",
   "language": "python",
   "name": "python3"
  },
  "language_info": {
   "codemirror_mode": {
    "name": "ipython",
    "version": 3
   },
   "file_extension": ".py",
   "mimetype": "text/x-python",
   "name": "python",
   "nbconvert_exporter": "python",
   "pygments_lexer": "ipython3",
   "version": "3.9.10"
  }
 },
 "nbformat": 4,
 "nbformat_minor": 5
}
