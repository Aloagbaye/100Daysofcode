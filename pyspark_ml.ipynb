{
 "cells": [
  {
   "cell_type": "code",
   "execution_count": 1,
   "id": "d1587788-838f-4b68-bf5f-5fe1dd467872",
   "metadata": {},
   "outputs": [],
   "source": [
    "from pyspark.sql import SparkSession\n",
    "spark = SparkSession.builder.getOrCreate()"
   ]
  },
  {
   "cell_type": "code",
   "execution_count": 2,
   "id": "79e31a01-fd6f-4591-bd16-839f7c0acd45",
   "metadata": {},
   "outputs": [],
   "source": [
    "filename = \"bank-full.csv\"\n",
    "target_variable_name=\"y\""
   ]
  },
  {
   "cell_type": "code",
   "execution_count": 3,
   "id": "bc8ff049-7543-489b-91c0-b3f102bae1f2",
   "metadata": {},
   "outputs": [],
   "source": [
    "df = spark.read.csv(filename,header=True,inferSchema=True,sep=';')"
   ]
  },
  {
   "cell_type": "code",
   "execution_count": 4,
   "id": "df0aef5a-f7f5-401d-9f28-96b1fdee79cb",
   "metadata": {},
   "outputs": [
    {
     "name": "stdout",
     "output_type": "stream",
     "text": [
      "+---+------------+--------+---------+-------+-------+-------+----+-------+---+-----+--------+--------+-----+--------+--------+---+\n",
      "|age|         job| marital|education|default|balance|housing|loan|contact|day|month|duration|campaign|pdays|previous|poutcome|  y|\n",
      "+---+------------+--------+---------+-------+-------+-------+----+-------+---+-----+--------+--------+-----+--------+--------+---+\n",
      "| 58|  management| married| tertiary|     no|   2143|    yes|  no|unknown|  5|  may|     261|       1|   -1|       0| unknown| no|\n",
      "| 44|  technician|  single|secondary|     no|     29|    yes|  no|unknown|  5|  may|     151|       1|   -1|       0| unknown| no|\n",
      "| 33|entrepreneur| married|secondary|     no|      2|    yes| yes|unknown|  5|  may|      76|       1|   -1|       0| unknown| no|\n",
      "| 47| blue-collar| married|  unknown|     no|   1506|    yes|  no|unknown|  5|  may|      92|       1|   -1|       0| unknown| no|\n",
      "| 33|     unknown|  single|  unknown|     no|      1|     no|  no|unknown|  5|  may|     198|       1|   -1|       0| unknown| no|\n",
      "| 35|  management| married| tertiary|     no|    231|    yes|  no|unknown|  5|  may|     139|       1|   -1|       0| unknown| no|\n",
      "| 28|  management|  single| tertiary|     no|    447|    yes| yes|unknown|  5|  may|     217|       1|   -1|       0| unknown| no|\n",
      "| 42|entrepreneur|divorced| tertiary|    yes|      2|    yes|  no|unknown|  5|  may|     380|       1|   -1|       0| unknown| no|\n",
      "| 58|     retired| married|  primary|     no|    121|    yes|  no|unknown|  5|  may|      50|       1|   -1|       0| unknown| no|\n",
      "| 43|  technician|  single|secondary|     no|    593|    yes|  no|unknown|  5|  may|      55|       1|   -1|       0| unknown| no|\n",
      "| 41|      admin.|divorced|secondary|     no|    270|    yes|  no|unknown|  5|  may|     222|       1|   -1|       0| unknown| no|\n",
      "| 29|      admin.|  single|secondary|     no|    390|    yes|  no|unknown|  5|  may|     137|       1|   -1|       0| unknown| no|\n",
      "| 53|  technician| married|secondary|     no|      6|    yes|  no|unknown|  5|  may|     517|       1|   -1|       0| unknown| no|\n",
      "| 58|  technician| married|  unknown|     no|     71|    yes|  no|unknown|  5|  may|      71|       1|   -1|       0| unknown| no|\n",
      "| 57|    services| married|secondary|     no|    162|    yes|  no|unknown|  5|  may|     174|       1|   -1|       0| unknown| no|\n",
      "| 51|     retired| married|  primary|     no|    229|    yes|  no|unknown|  5|  may|     353|       1|   -1|       0| unknown| no|\n",
      "| 45|      admin.|  single|  unknown|     no|     13|    yes|  no|unknown|  5|  may|      98|       1|   -1|       0| unknown| no|\n",
      "| 57| blue-collar| married|  primary|     no|     52|    yes|  no|unknown|  5|  may|      38|       1|   -1|       0| unknown| no|\n",
      "| 60|     retired| married|  primary|     no|     60|    yes|  no|unknown|  5|  may|     219|       1|   -1|       0| unknown| no|\n",
      "| 33|    services| married|secondary|     no|      0|    yes|  no|unknown|  5|  may|      54|       1|   -1|       0| unknown| no|\n",
      "+---+------------+--------+---------+-------+-------+-------+----+-------+---+-----+--------+--------+-----+--------+--------+---+\n",
      "only showing top 20 rows\n",
      "\n"
     ]
    }
   ],
   "source": [
    "df.show()"
   ]
  },
  {
   "cell_type": "code",
   "execution_count": 5,
   "id": "2d268aa8-c452-4cef-8572-74ea4401c86f",
   "metadata": {},
   "outputs": [
    {
     "data": {
      "text/plain": [
       "45211"
      ]
     },
     "execution_count": 5,
     "metadata": {},
     "output_type": "execute_result"
    }
   ],
   "source": [
    "df.count()"
   ]
  },
  {
   "cell_type": "code",
   "execution_count": 7,
   "id": "a4034855-ca66-444d-abf3-6038b5e25de6",
   "metadata": {},
   "outputs": [
    {
     "data": {
      "text/html": [
       "<div>\n",
       "<style scoped>\n",
       "    .dataframe tbody tr th:only-of-type {\n",
       "        vertical-align: middle;\n",
       "    }\n",
       "\n",
       "    .dataframe tbody tr th {\n",
       "        vertical-align: top;\n",
       "    }\n",
       "\n",
       "    .dataframe thead th {\n",
       "        text-align: right;\n",
       "    }\n",
       "</style>\n",
       "<table border=\"1\" class=\"dataframe\">\n",
       "  <thead>\n",
       "    <tr style=\"text-align: right;\">\n",
       "      <th></th>\n",
       "      <th>summary</th>\n",
       "      <th>age</th>\n",
       "      <th>job</th>\n",
       "      <th>marital</th>\n",
       "      <th>education</th>\n",
       "      <th>default</th>\n",
       "      <th>balance</th>\n",
       "      <th>housing</th>\n",
       "      <th>loan</th>\n",
       "      <th>contact</th>\n",
       "      <th>day</th>\n",
       "      <th>month</th>\n",
       "      <th>duration</th>\n",
       "      <th>campaign</th>\n",
       "      <th>pdays</th>\n",
       "      <th>previous</th>\n",
       "      <th>poutcome</th>\n",
       "      <th>y</th>\n",
       "    </tr>\n",
       "  </thead>\n",
       "  <tbody>\n",
       "    <tr>\n",
       "      <th>0</th>\n",
       "      <td>count</td>\n",
       "      <td>45211</td>\n",
       "      <td>45211</td>\n",
       "      <td>45211</td>\n",
       "      <td>45211</td>\n",
       "      <td>45211</td>\n",
       "      <td>45211</td>\n",
       "      <td>45211</td>\n",
       "      <td>45211</td>\n",
       "      <td>45211</td>\n",
       "      <td>45211</td>\n",
       "      <td>45211</td>\n",
       "      <td>45211</td>\n",
       "      <td>45211</td>\n",
       "      <td>45211</td>\n",
       "      <td>45211</td>\n",
       "      <td>45211</td>\n",
       "      <td>45211</td>\n",
       "    </tr>\n",
       "    <tr>\n",
       "      <th>1</th>\n",
       "      <td>mean</td>\n",
       "      <td>40.93621021432837</td>\n",
       "      <td>None</td>\n",
       "      <td>None</td>\n",
       "      <td>None</td>\n",
       "      <td>None</td>\n",
       "      <td>1362.2720576850766</td>\n",
       "      <td>None</td>\n",
       "      <td>None</td>\n",
       "      <td>None</td>\n",
       "      <td>15.80641879188693</td>\n",
       "      <td>None</td>\n",
       "      <td>258.1630797814691</td>\n",
       "      <td>2.763840658246887</td>\n",
       "      <td>40.19782796222158</td>\n",
       "      <td>0.5803233726305546</td>\n",
       "      <td>None</td>\n",
       "      <td>None</td>\n",
       "    </tr>\n",
       "    <tr>\n",
       "      <th>2</th>\n",
       "      <td>stddev</td>\n",
       "      <td>10.618762040975401</td>\n",
       "      <td>None</td>\n",
       "      <td>None</td>\n",
       "      <td>None</td>\n",
       "      <td>None</td>\n",
       "      <td>3044.7658291685243</td>\n",
       "      <td>None</td>\n",
       "      <td>None</td>\n",
       "      <td>None</td>\n",
       "      <td>8.322476153044589</td>\n",
       "      <td>None</td>\n",
       "      <td>257.5278122651712</td>\n",
       "      <td>3.0980208832791813</td>\n",
       "      <td>100.12874599059818</td>\n",
       "      <td>2.3034410449312164</td>\n",
       "      <td>None</td>\n",
       "      <td>None</td>\n",
       "    </tr>\n",
       "    <tr>\n",
       "      <th>3</th>\n",
       "      <td>min</td>\n",
       "      <td>18</td>\n",
       "      <td>admin.</td>\n",
       "      <td>divorced</td>\n",
       "      <td>primary</td>\n",
       "      <td>no</td>\n",
       "      <td>-8019</td>\n",
       "      <td>no</td>\n",
       "      <td>no</td>\n",
       "      <td>cellular</td>\n",
       "      <td>1</td>\n",
       "      <td>apr</td>\n",
       "      <td>0</td>\n",
       "      <td>1</td>\n",
       "      <td>-1</td>\n",
       "      <td>0</td>\n",
       "      <td>failure</td>\n",
       "      <td>no</td>\n",
       "    </tr>\n",
       "    <tr>\n",
       "      <th>4</th>\n",
       "      <td>max</td>\n",
       "      <td>95</td>\n",
       "      <td>unknown</td>\n",
       "      <td>single</td>\n",
       "      <td>unknown</td>\n",
       "      <td>yes</td>\n",
       "      <td>102127</td>\n",
       "      <td>yes</td>\n",
       "      <td>yes</td>\n",
       "      <td>unknown</td>\n",
       "      <td>31</td>\n",
       "      <td>sep</td>\n",
       "      <td>4918</td>\n",
       "      <td>63</td>\n",
       "      <td>871</td>\n",
       "      <td>275</td>\n",
       "      <td>unknown</td>\n",
       "      <td>yes</td>\n",
       "    </tr>\n",
       "  </tbody>\n",
       "</table>\n",
       "</div>"
      ],
      "text/plain": [
       "  summary                 age      job   marital education default  \\\n",
       "0   count               45211    45211     45211     45211   45211   \n",
       "1    mean   40.93621021432837     None      None      None    None   \n",
       "2  stddev  10.618762040975401     None      None      None    None   \n",
       "3     min                  18   admin.  divorced   primary      no   \n",
       "4     max                  95  unknown    single   unknown     yes   \n",
       "\n",
       "              balance housing   loan   contact                day  month  \\\n",
       "0               45211   45211  45211     45211              45211  45211   \n",
       "1  1362.2720576850766    None   None      None  15.80641879188693   None   \n",
       "2  3044.7658291685243    None   None      None  8.322476153044589   None   \n",
       "3               -8019      no     no  cellular                  1    apr   \n",
       "4              102127     yes    yes   unknown                 31    sep   \n",
       "\n",
       "            duration            campaign               pdays  \\\n",
       "0              45211               45211               45211   \n",
       "1  258.1630797814691   2.763840658246887   40.19782796222158   \n",
       "2  257.5278122651712  3.0980208832791813  100.12874599059818   \n",
       "3                  0                   1                  -1   \n",
       "4               4918                  63                 871   \n",
       "\n",
       "             previous poutcome      y  \n",
       "0               45211    45211  45211  \n",
       "1  0.5803233726305546     None   None  \n",
       "2  2.3034410449312164     None   None  \n",
       "3                   0  failure     no  \n",
       "4                 275  unknown    yes  "
      ]
     },
     "execution_count": 7,
     "metadata": {},
     "output_type": "execute_result"
    }
   ],
   "source": [
    "df.describe().toPandas()"
   ]
  },
  {
   "cell_type": "code",
   "execution_count": 8,
   "id": "06275f93-4ba7-4577-9241-7c763ee5fe19",
   "metadata": {},
   "outputs": [
    {
     "data": {
      "text/plain": [
       "[('age', 'int'),\n",
       " ('job', 'string'),\n",
       " ('marital', 'string'),\n",
       " ('education', 'string'),\n",
       " ('default', 'string'),\n",
       " ('balance', 'int'),\n",
       " ('housing', 'string'),\n",
       " ('loan', 'string'),\n",
       " ('contact', 'string'),\n",
       " ('day', 'int'),\n",
       " ('month', 'string'),\n",
       " ('duration', 'int'),\n",
       " ('campaign', 'int'),\n",
       " ('pdays', 'int'),\n",
       " ('previous', 'int'),\n",
       " ('poutcome', 'string'),\n",
       " ('y', 'string')]"
      ]
     },
     "execution_count": 8,
     "metadata": {},
     "output_type": "execute_result"
    }
   ],
   "source": [
    "df.dtypes"
   ]
  },
  {
   "cell_type": "code",
   "execution_count": 9,
   "id": "3b237b17-2131-45c8-9969-17b0baa1f765",
   "metadata": {},
   "outputs": [
    {
     "name": "stdout",
     "output_type": "stream",
     "text": [
      "root\n",
      " |-- age: integer (nullable = true)\n",
      " |-- job: string (nullable = true)\n",
      " |-- marital: string (nullable = true)\n",
      " |-- education: string (nullable = true)\n",
      " |-- default: string (nullable = true)\n",
      " |-- balance: integer (nullable = true)\n",
      " |-- housing: string (nullable = true)\n",
      " |-- loan: string (nullable = true)\n",
      " |-- contact: string (nullable = true)\n",
      " |-- day: integer (nullable = true)\n",
      " |-- month: string (nullable = true)\n",
      " |-- duration: integer (nullable = true)\n",
      " |-- campaign: integer (nullable = true)\n",
      " |-- pdays: integer (nullable = true)\n",
      " |-- previous: integer (nullable = true)\n",
      " |-- poutcome: string (nullable = true)\n",
      " |-- y: string (nullable = true)\n",
      "\n"
     ]
    }
   ],
   "source": [
    "df.printSchema()"
   ]
  },
  {
   "cell_type": "code",
   "execution_count": 10,
   "id": "d9fc17e6-ec65-4e84-b8bb-0f1d8b1519cc",
   "metadata": {},
   "outputs": [
    {
     "name": "stdout",
     "output_type": "stream",
     "text": [
      "+---------+-----+\n",
      "|education|count|\n",
      "+---------+-----+\n",
      "|  unknown| 1857|\n",
      "| tertiary|13301|\n",
      "|secondary|23202|\n",
      "|  primary| 6851|\n",
      "+---------+-----+\n",
      "\n"
     ]
    }
   ],
   "source": [
    "df.groupby('education').count().show()"
   ]
  },
  {
   "cell_type": "code",
   "execution_count": 11,
   "id": "e0fc4ed4-d86d-43a6-811e-034691bd198e",
   "metadata": {},
   "outputs": [
    {
     "name": "stdout",
     "output_type": "stream",
     "text": [
      "+---------+---+-----+\n",
      "|education|  y|count|\n",
      "+---------+---+-----+\n",
      "|  unknown| no| 1605|\n",
      "| tertiary| no|11305|\n",
      "|secondary| no|20752|\n",
      "|  unknown|yes|  252|\n",
      "|  primary| no| 6260|\n",
      "|  primary|yes|  591|\n",
      "|secondary|yes| 2450|\n",
      "| tertiary|yes| 1996|\n",
      "+---------+---+-----+\n",
      "\n"
     ]
    }
   ],
   "source": [
    "df.groupby([\"education\",target_variable_name]).count().show()"
   ]
  },
  {
   "cell_type": "code",
   "execution_count": 13,
   "id": "99596ad2-e443-4bf7-a27d-a5ec422ffab6",
   "metadata": {},
   "outputs": [],
   "source": [
    "from pyspark.sql.functions import *"
   ]
  },
  {
   "cell_type": "code",
   "execution_count": 14,
   "id": "18db5c5c-afd1-4a62-852e-dd3b2047e1e1",
   "metadata": {},
   "outputs": [
    {
     "name": "stdout",
     "output_type": "stream",
     "text": [
      "+---+------------------+------------------+\n",
      "|  y|      avg(balance)|          avg(age)|\n",
      "+---+------------------+------------------+\n",
      "| no|1303.7149691899203| 40.83898602274435|\n",
      "|yes|1804.2679145396105|41.670069956513515|\n",
      "+---+------------------+------------------+\n",
      "\n"
     ]
    }
   ],
   "source": [
    "df.groupby(target_variable_name).agg({'balance':'avg','age':'avg'}).show()"
   ]
  },
  {
   "cell_type": "code",
   "execution_count": 17,
   "id": "83b8d741-cae5-4017-b74a-1d630192d92f",
   "metadata": {},
   "outputs": [],
   "source": [
    "def cardinality_calculation(df,cut_off=1):\n",
    "    cardinality = df.select(*[approx_count_distinct(c).alias(c) for c in df.columns])\n",
    "    \n",
    "    # convert to pandas for efficient calculations\n",
    "    final_cardinality_df = cardinality.toPandas().transpose()\n",
    "    final_cardinality_df.reset_index(inplace=True)\n",
    "    final_cardinality_df.rename(columns={0:'Cardinality'},inplace=True)\n",
    "    \n",
    "    # select variables with cardinality of 1\n",
    "    vars_selected = final_cardinality_df['index'][final_cardinality_df['Cardinality']<=cut_off]\n",
    "    \n",
    "    return final_cardinality_df,vars_selected\n",
    "\n",
    "cardinality_df, cardinality_vars_selected = cardinality_calculation(df)"
   ]
  },
  {
   "cell_type": "code",
   "execution_count": 18,
   "id": "54c436de-a596-49de-a42c-b2038bed9d3e",
   "metadata": {},
   "outputs": [
    {
     "data": {
      "text/html": [
       "<div>\n",
       "<style scoped>\n",
       "    .dataframe tbody tr th:only-of-type {\n",
       "        vertical-align: middle;\n",
       "    }\n",
       "\n",
       "    .dataframe tbody tr th {\n",
       "        vertical-align: top;\n",
       "    }\n",
       "\n",
       "    .dataframe thead th {\n",
       "        text-align: right;\n",
       "    }\n",
       "</style>\n",
       "<table border=\"1\" class=\"dataframe\">\n",
       "  <thead>\n",
       "    <tr style=\"text-align: right;\">\n",
       "      <th></th>\n",
       "      <th>index</th>\n",
       "      <th>Cardinality</th>\n",
       "    </tr>\n",
       "  </thead>\n",
       "  <tbody>\n",
       "    <tr>\n",
       "      <th>0</th>\n",
       "      <td>age</td>\n",
       "      <td>76</td>\n",
       "    </tr>\n",
       "    <tr>\n",
       "      <th>1</th>\n",
       "      <td>job</td>\n",
       "      <td>11</td>\n",
       "    </tr>\n",
       "    <tr>\n",
       "      <th>2</th>\n",
       "      <td>marital</td>\n",
       "      <td>3</td>\n",
       "    </tr>\n",
       "    <tr>\n",
       "      <th>3</th>\n",
       "      <td>education</td>\n",
       "      <td>4</td>\n",
       "    </tr>\n",
       "    <tr>\n",
       "      <th>4</th>\n",
       "      <td>default</td>\n",
       "      <td>2</td>\n",
       "    </tr>\n",
       "    <tr>\n",
       "      <th>5</th>\n",
       "      <td>balance</td>\n",
       "      <td>7375</td>\n",
       "    </tr>\n",
       "    <tr>\n",
       "      <th>6</th>\n",
       "      <td>housing</td>\n",
       "      <td>2</td>\n",
       "    </tr>\n",
       "    <tr>\n",
       "      <th>7</th>\n",
       "      <td>loan</td>\n",
       "      <td>2</td>\n",
       "    </tr>\n",
       "    <tr>\n",
       "      <th>8</th>\n",
       "      <td>contact</td>\n",
       "      <td>3</td>\n",
       "    </tr>\n",
       "    <tr>\n",
       "      <th>9</th>\n",
       "      <td>day</td>\n",
       "      <td>32</td>\n",
       "    </tr>\n",
       "    <tr>\n",
       "      <th>10</th>\n",
       "      <td>month</td>\n",
       "      <td>12</td>\n",
       "    </tr>\n",
       "    <tr>\n",
       "      <th>11</th>\n",
       "      <td>duration</td>\n",
       "      <td>1605</td>\n",
       "    </tr>\n",
       "    <tr>\n",
       "      <th>12</th>\n",
       "      <td>campaign</td>\n",
       "      <td>47</td>\n",
       "    </tr>\n",
       "    <tr>\n",
       "      <th>13</th>\n",
       "      <td>pdays</td>\n",
       "      <td>547</td>\n",
       "    </tr>\n",
       "    <tr>\n",
       "      <th>14</th>\n",
       "      <td>previous</td>\n",
       "      <td>42</td>\n",
       "    </tr>\n",
       "    <tr>\n",
       "      <th>15</th>\n",
       "      <td>poutcome</td>\n",
       "      <td>4</td>\n",
       "    </tr>\n",
       "    <tr>\n",
       "      <th>16</th>\n",
       "      <td>y</td>\n",
       "      <td>2</td>\n",
       "    </tr>\n",
       "  </tbody>\n",
       "</table>\n",
       "</div>"
      ],
      "text/plain": [
       "        index  Cardinality\n",
       "0         age           76\n",
       "1         job           11\n",
       "2     marital            3\n",
       "3   education            4\n",
       "4     default            2\n",
       "5     balance         7375\n",
       "6     housing            2\n",
       "7        loan            2\n",
       "8     contact            3\n",
       "9         day           32\n",
       "10      month           12\n",
       "11   duration         1605\n",
       "12   campaign           47\n",
       "13      pdays          547\n",
       "14   previous           42\n",
       "15   poutcome            4\n",
       "16          y            2"
      ]
     },
     "execution_count": 18,
     "metadata": {},
     "output_type": "execute_result"
    }
   ],
   "source": [
    "cardinality_df"
   ]
  },
  {
   "cell_type": "code",
   "execution_count": 19,
   "id": "0880b129-8a9d-4a0e-a164-c7287929e073",
   "metadata": {},
   "outputs": [
    {
     "data": {
      "text/plain": [
       "Series([], Name: index, dtype: object)"
      ]
     },
     "execution_count": 19,
     "metadata": {},
     "output_type": "execute_result"
    }
   ],
   "source": [
    "cardinality_vars_selected"
   ]
  },
  {
   "cell_type": "code",
   "execution_count": 21,
   "id": "9418e262-8b94-4c5d-8f73-31b9fc20dfdc",
   "metadata": {},
   "outputs": [],
   "source": [
    "def missing_calculation(df,miss_percentage=0.8):\n",
    "    #checks for both NaN and null values\n",
    "    missing =df.select(*[count(when(isnan(c) | col(c).isNull(),c)).alias(c) for c in df.columns])\n",
    "    length_df = df.count()\n",
    "    \n",
    "    final_missing_df = missing.toPandas().transpose()\n",
    "    final_missing_df.reset_index(inplace=True)\n",
    "    final_missing_df.rename(columns={0:'missing_count'},inplace=True)\n",
    "    final_missing_df['missing_percentage']=final_missing_df['missing_count']/length_df\n",
    "    \n",
    "    vars_selected = final_missing_df['index'][final_missing_df['missing_percentage']>=miss_percentage]\n",
    "    \n",
    "    return final_missing_df,vars_selected"
   ]
  },
  {
   "cell_type": "code",
   "execution_count": 22,
   "id": "38318578-4be8-484e-9357-444998ab927e",
   "metadata": {},
   "outputs": [],
   "source": [
    "missing_df,missing_vars_selected=missing_calculation(df)"
   ]
  },
  {
   "cell_type": "code",
   "execution_count": null,
   "id": "20ef0232-68ce-460d-bc36-dee8b647d8fb",
   "metadata": {},
   "outputs": [],
   "source": []
  }
 ],
 "metadata": {
  "kernelspec": {
   "display_name": "Python 3 (ipykernel)",
   "language": "python",
   "name": "python3"
  },
  "language_info": {
   "codemirror_mode": {
    "name": "ipython",
    "version": 3
   },
   "file_extension": ".py",
   "mimetype": "text/x-python",
   "name": "python",
   "nbconvert_exporter": "python",
   "pygments_lexer": "ipython3",
   "version": "3.9.10"
  }
 },
 "nbformat": 4,
 "nbformat_minor": 5
}
