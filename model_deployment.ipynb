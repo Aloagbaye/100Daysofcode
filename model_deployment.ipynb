{
 "cells": [
  {
   "cell_type": "markdown",
   "id": "370b8ca1-ce59-479f-91cb-33891779513a",
   "metadata": {},
   "source": [
    "# Start Spark session"
   ]
  },
  {
   "cell_type": "code",
   "execution_count": 72,
   "id": "c716a8f5-ec67-4dd5-bf8d-dfd63039f0d5",
   "metadata": {},
   "outputs": [],
   "source": [
    "from pyspark.sql import SparkSession"
   ]
  },
  {
   "cell_type": "code",
   "execution_count": 73,
   "id": "5ef9c9a5-2522-4c29-8a98-017f9e6fa05c",
   "metadata": {},
   "outputs": [],
   "source": [
    "spark = SparkSession.builder.appName(\"Model_Deployment\").getOrCreate()"
   ]
  },
  {
   "cell_type": "markdown",
   "id": "ca2ba8fe-83f1-469a-b618-b7948d409ee7",
   "metadata": {},
   "source": [
    "# Load Data"
   ]
  },
  {
   "cell_type": "code",
   "execution_count": 85,
   "id": "da1faccd-c2f3-4f19-99e8-7e0ae4304cf6",
   "metadata": {},
   "outputs": [],
   "source": [
    "file_location = \"bank-full.csv\"\n",
    "file_type = \"csv\"\n",
    "infer_schema=\"False\"\n",
    "first_row_is_header=\"True\"\n",
    "delimeter=\";\""
   ]
  },
  {
   "cell_type": "code",
   "execution_count": 86,
   "id": "75a33b5f-9708-47ba-96d6-008ae9c7cc53",
   "metadata": {},
   "outputs": [],
   "source": [
    "df = spark.read.format(file_type)\\\n",
    ".option(\"inferSchema\",infer_schema)\\\n",
    ".option(\"header\",first_row_is_header)\\\n",
    ".option(\"sep\",delimeter)\\\n",
    ".load(file_location)"
   ]
  },
  {
   "cell_type": "code",
   "execution_count": 87,
   "id": "ac87e2ec-d762-49db-831e-d98f8d419d70",
   "metadata": {},
   "outputs": [
    {
     "name": "stdout",
     "output_type": "stream",
     "text": [
      "+---+------------+--------+---------+-------+-------+-------+----+-------+---+-----+--------+--------+-----+--------+--------+---+\n",
      "|age|         job| marital|education|default|balance|housing|loan|contact|day|month|duration|campaign|pdays|previous|poutcome|  y|\n",
      "+---+------------+--------+---------+-------+-------+-------+----+-------+---+-----+--------+--------+-----+--------+--------+---+\n",
      "| 58|  management| married| tertiary|     no|   2143|    yes|  no|unknown|  5|  may|     261|       1|   -1|       0| unknown| no|\n",
      "| 44|  technician|  single|secondary|     no|     29|    yes|  no|unknown|  5|  may|     151|       1|   -1|       0| unknown| no|\n",
      "| 33|entrepreneur| married|secondary|     no|      2|    yes| yes|unknown|  5|  may|      76|       1|   -1|       0| unknown| no|\n",
      "| 47| blue-collar| married|  unknown|     no|   1506|    yes|  no|unknown|  5|  may|      92|       1|   -1|       0| unknown| no|\n",
      "| 33|     unknown|  single|  unknown|     no|      1|     no|  no|unknown|  5|  may|     198|       1|   -1|       0| unknown| no|\n",
      "| 35|  management| married| tertiary|     no|    231|    yes|  no|unknown|  5|  may|     139|       1|   -1|       0| unknown| no|\n",
      "| 28|  management|  single| tertiary|     no|    447|    yes| yes|unknown|  5|  may|     217|       1|   -1|       0| unknown| no|\n",
      "| 42|entrepreneur|divorced| tertiary|    yes|      2|    yes|  no|unknown|  5|  may|     380|       1|   -1|       0| unknown| no|\n",
      "| 58|     retired| married|  primary|     no|    121|    yes|  no|unknown|  5|  may|      50|       1|   -1|       0| unknown| no|\n",
      "| 43|  technician|  single|secondary|     no|    593|    yes|  no|unknown|  5|  may|      55|       1|   -1|       0| unknown| no|\n",
      "| 41|      admin.|divorced|secondary|     no|    270|    yes|  no|unknown|  5|  may|     222|       1|   -1|       0| unknown| no|\n",
      "| 29|      admin.|  single|secondary|     no|    390|    yes|  no|unknown|  5|  may|     137|       1|   -1|       0| unknown| no|\n",
      "| 53|  technician| married|secondary|     no|      6|    yes|  no|unknown|  5|  may|     517|       1|   -1|       0| unknown| no|\n",
      "| 58|  technician| married|  unknown|     no|     71|    yes|  no|unknown|  5|  may|      71|       1|   -1|       0| unknown| no|\n",
      "| 57|    services| married|secondary|     no|    162|    yes|  no|unknown|  5|  may|     174|       1|   -1|       0| unknown| no|\n",
      "| 51|     retired| married|  primary|     no|    229|    yes|  no|unknown|  5|  may|     353|       1|   -1|       0| unknown| no|\n",
      "| 45|      admin.|  single|  unknown|     no|     13|    yes|  no|unknown|  5|  may|      98|       1|   -1|       0| unknown| no|\n",
      "| 57| blue-collar| married|  primary|     no|     52|    yes|  no|unknown|  5|  may|      38|       1|   -1|       0| unknown| no|\n",
      "| 60|     retired| married|  primary|     no|     60|    yes|  no|unknown|  5|  may|     219|       1|   -1|       0| unknown| no|\n",
      "| 33|    services| married|secondary|     no|      0|    yes|  no|unknown|  5|  may|      54|       1|   -1|       0| unknown| no|\n",
      "+---+------------+--------+---------+-------+-------+-------+----+-------+---+-----+--------+--------+-----+--------+--------+---+\n",
      "only showing top 20 rows\n",
      "\n"
     ]
    }
   ],
   "source": [
    "df.show()"
   ]
  },
  {
   "cell_type": "markdown",
   "id": "ca1b1a01-b09f-4a4e-8bd8-236893f4b89d",
   "metadata": {},
   "source": [
    "# Feature engineering"
   ]
  },
  {
   "cell_type": "code",
   "execution_count": 88,
   "id": "2f3be530-ea4c-4ac2-b4e8-da043cdde6e9",
   "metadata": {},
   "outputs": [],
   "source": [
    "from pyspark.sql import functions as F"
   ]
  },
  {
   "cell_type": "code",
   "execution_count": 89,
   "id": "adfc86f1-8b8a-4622-a9f7-938ef9d181b1",
   "metadata": {},
   "outputs": [],
   "source": [
    "df = df.withColumn('y',F.when(F.col(\"y\")=='yes',1).otherwise(0)) # one hot encoding for target variable"
   ]
  },
  {
   "cell_type": "code",
   "execution_count": 90,
   "id": "4ed27b49-378d-4d58-9749-7396b6b173df",
   "metadata": {},
   "outputs": [
    {
     "name": "stdout",
     "output_type": "stream",
     "text": [
      "+---+------------+--------+---------+-------+-------+-------+----+-------+---+-----+--------+--------+-----+--------+--------+---+\n",
      "|age|         job| marital|education|default|balance|housing|loan|contact|day|month|duration|campaign|pdays|previous|poutcome|  y|\n",
      "+---+------------+--------+---------+-------+-------+-------+----+-------+---+-----+--------+--------+-----+--------+--------+---+\n",
      "| 58|  management| married| tertiary|     no|   2143|    yes|  no|unknown|  5|  may|     261|       1|   -1|       0| unknown|  0|\n",
      "| 44|  technician|  single|secondary|     no|     29|    yes|  no|unknown|  5|  may|     151|       1|   -1|       0| unknown|  0|\n",
      "| 33|entrepreneur| married|secondary|     no|      2|    yes| yes|unknown|  5|  may|      76|       1|   -1|       0| unknown|  0|\n",
      "| 47| blue-collar| married|  unknown|     no|   1506|    yes|  no|unknown|  5|  may|      92|       1|   -1|       0| unknown|  0|\n",
      "| 33|     unknown|  single|  unknown|     no|      1|     no|  no|unknown|  5|  may|     198|       1|   -1|       0| unknown|  0|\n",
      "| 35|  management| married| tertiary|     no|    231|    yes|  no|unknown|  5|  may|     139|       1|   -1|       0| unknown|  0|\n",
      "| 28|  management|  single| tertiary|     no|    447|    yes| yes|unknown|  5|  may|     217|       1|   -1|       0| unknown|  0|\n",
      "| 42|entrepreneur|divorced| tertiary|    yes|      2|    yes|  no|unknown|  5|  may|     380|       1|   -1|       0| unknown|  0|\n",
      "| 58|     retired| married|  primary|     no|    121|    yes|  no|unknown|  5|  may|      50|       1|   -1|       0| unknown|  0|\n",
      "| 43|  technician|  single|secondary|     no|    593|    yes|  no|unknown|  5|  may|      55|       1|   -1|       0| unknown|  0|\n",
      "| 41|      admin.|divorced|secondary|     no|    270|    yes|  no|unknown|  5|  may|     222|       1|   -1|       0| unknown|  0|\n",
      "| 29|      admin.|  single|secondary|     no|    390|    yes|  no|unknown|  5|  may|     137|       1|   -1|       0| unknown|  0|\n",
      "| 53|  technician| married|secondary|     no|      6|    yes|  no|unknown|  5|  may|     517|       1|   -1|       0| unknown|  0|\n",
      "| 58|  technician| married|  unknown|     no|     71|    yes|  no|unknown|  5|  may|      71|       1|   -1|       0| unknown|  0|\n",
      "| 57|    services| married|secondary|     no|    162|    yes|  no|unknown|  5|  may|     174|       1|   -1|       0| unknown|  0|\n",
      "| 51|     retired| married|  primary|     no|    229|    yes|  no|unknown|  5|  may|     353|       1|   -1|       0| unknown|  0|\n",
      "| 45|      admin.|  single|  unknown|     no|     13|    yes|  no|unknown|  5|  may|      98|       1|   -1|       0| unknown|  0|\n",
      "| 57| blue-collar| married|  primary|     no|     52|    yes|  no|unknown|  5|  may|      38|       1|   -1|       0| unknown|  0|\n",
      "| 60|     retired| married|  primary|     no|     60|    yes|  no|unknown|  5|  may|     219|       1|   -1|       0| unknown|  0|\n",
      "| 33|    services| married|secondary|     no|      0|    yes|  no|unknown|  5|  may|      54|       1|   -1|       0| unknown|  0|\n",
      "+---+------------+--------+---------+-------+-------+-------+----+-------+---+-----+--------+--------+-----+--------+--------+---+\n",
      "only showing top 20 rows\n",
      "\n"
     ]
    }
   ],
   "source": [
    "df.show()"
   ]
  },
  {
   "cell_type": "code",
   "execution_count": 91,
   "id": "273edebb-8912-4609-bc83-e7e8ce39cf07",
   "metadata": {},
   "outputs": [],
   "source": [
    "def variable_type(df):\n",
    "    # use the dtypes to separate character and numeric variables\n",
    "    vars_list = df.dtypes\n",
    "    char_vars = [] #character variable list\n",
    "    num_vars = [] # numeric variable list\n",
    "    for variable in vars_list:\n",
    "        if variable[1] in ('string'):\n",
    "            char_vars.append(variable[0])\n",
    "        else:\n",
    "            num_vars.append(variable[0])\n",
    "    return char_vars, num_vars"
   ]
  },
  {
   "cell_type": "code",
   "execution_count": 92,
   "id": "e4872ad5-dd56-4284-b196-b68dd306fda7",
   "metadata": {},
   "outputs": [],
   "source": [
    "from pyspark.ml.feature import VectorAssembler\n",
    "from pyspark.ml.feature import StringIndexer\n",
    "from pyspark.ml import Pipeline\n",
    "from pyspark.sql.functions import count, when, isnan, col"
   ]
  },
  {
   "cell_type": "code",
   "execution_count": 93,
   "id": "65df3b60-c040-4eed-a069-f82e522bef2e",
   "metadata": {},
   "outputs": [],
   "source": [
    "char_vars, num_vars = variable_type(df)"
   ]
  },
  {
   "cell_type": "code",
   "execution_count": 94,
   "id": "41ae72b2-b183-4560-90a9-8a1b60e9df4f",
   "metadata": {},
   "outputs": [],
   "source": [
    "target_variable_name = 'y'"
   ]
  },
  {
   "cell_type": "code",
   "execution_count": 95,
   "id": "32633d29-6921-4d16-bf09-1af87d19d8f8",
   "metadata": {},
   "outputs": [],
   "source": [
    "num_vars.remove(target_variable_name)"
   ]
  },
  {
   "cell_type": "code",
   "execution_count": 96,
   "id": "c8aea0fa-3fa7-4a41-83d6-7be11e773d94",
   "metadata": {},
   "outputs": [],
   "source": [
    "def category_to_index(df,char_vars):\n",
    "    char_df = df.select(char_vars)\n",
    "    indexers = [StringIndexer(inputCol=c, outputCol=c+\"_index\", handleInvalid=\"keep\") for c in char_df.columns]\n",
    "    pipeline = Pipeline(stages=indexers)\n",
    "    char_labels = pipeline.fit(char_df)\n",
    "    df = char_labels.transform(df)\n",
    "    return df, char_labels"
   ]
  },
  {
   "cell_type": "code",
   "execution_count": 97,
   "id": "69877411-eb41-48ae-9eae-59a414144ef1",
   "metadata": {},
   "outputs": [],
   "source": [
    "df, char_labels = category_to_index(df, char_vars)\n",
    "df = df.select([c for c in df.columns if c not in char_vars])"
   ]
  },
  {
   "cell_type": "code",
   "execution_count": 98,
   "id": "4bb33bb3-16b0-456a-98b3-feecc98d8ad2",
   "metadata": {},
   "outputs": [
    {
     "data": {
      "text/plain": [
       "PipelineModel_cf596be8e255"
      ]
     },
     "execution_count": 98,
     "metadata": {},
     "output_type": "execute_result"
    }
   ],
   "source": [
    "char_labels"
   ]
  },
  {
   "cell_type": "code",
   "execution_count": 99,
   "id": "c4bf3963-f561-4176-894f-3d6273606f12",
   "metadata": {},
   "outputs": [
    {
     "name": "stdout",
     "output_type": "stream",
     "text": [
      "+---+---------+---------+-------------+---------------+-------------+-------------+-------------+----------+-------------+---------+-----------+--------------+--------------+-----------+--------------+--------------+\n",
      "|  y|age_index|job_index|marital_index|education_index|default_index|balance_index|housing_index|loan_index|contact_index|day_index|month_index|duration_index|campaign_index|pdays_index|previous_index|poutcome_index|\n",
      "+---+---------+---------+-------------+---------------+-------------+-------------+-------------+----------+-------------+---------+-----------+--------------+--------------+-----------+--------------+--------------+\n",
      "|  0|     33.0|      1.0|          0.0|            1.0|          0.0|       2117.0|          0.0|       0.0|          1.0|      5.0|        0.0|         243.0|           0.0|        0.0|           0.0|           0.0|\n",
      "|  0|     17.0|      2.0|          1.0|            0.0|          0.0|         83.0|          0.0|       0.0|          1.0|      5.0|        0.0|          40.0|           0.0|        0.0|           0.0|           0.0|\n",
      "|  0|      2.0|      7.0|          0.0|            0.0|          0.0|          2.0|          0.0|       1.0|          1.0|      5.0|        0.0|          37.0|           0.0|        0.0|           0.0|           0.0|\n",
      "|  0|     18.0|      0.0|          0.0|            3.0|          0.0|       1359.0|          0.0|       0.0|          1.0|      5.0|        0.0|          15.0|           0.0|        0.0|           0.0|           0.0|\n",
      "|  0|      2.0|     11.0|          1.0|            3.0|          0.0|          1.0|          1.0|       0.0|          1.0|      5.0|        0.0|         123.0|           0.0|        0.0|           0.0|           0.0|\n",
      "|  0|      4.0|      1.0|          0.0|            1.0|          0.0|        204.0|          0.0|       0.0|          1.0|      5.0|        0.0|           8.0|           0.0|        0.0|           0.0|           0.0|\n",
      "|  0|     19.0|      1.0|          1.0|            1.0|          0.0|        540.0|          0.0|       1.0|          1.0|      5.0|        0.0|         146.0|           0.0|        0.0|           0.0|           0.0|\n",
      "|  0|     12.0|      7.0|          2.0|            1.0|          1.0|          2.0|          0.0|       0.0|          1.0|      5.0|        0.0|         401.0|           0.0|        0.0|           0.0|           0.0|\n",
      "|  0|     33.0|      5.0|          0.0|            2.0|          0.0|        154.0|          0.0|       0.0|          1.0|      5.0|        0.0|         138.0|           0.0|        0.0|           0.0|           0.0|\n",
      "|  0|     16.0|      2.0|          1.0|            0.0|          0.0|        784.0|          0.0|       0.0|          1.0|      5.0|        0.0|         130.0|           0.0|        0.0|           0.0|           0.0|\n",
      "|  0|     11.0|      3.0|          2.0|            0.0|          0.0|        410.0|          0.0|       0.0|          1.0|      5.0|        0.0|         156.0|           0.0|        0.0|           0.0|           0.0|\n",
      "|  0|     14.0|      3.0|          1.0|            0.0|          0.0|        361.0|          0.0|       0.0|          1.0|      5.0|        0.0|         112.0|           0.0|        0.0|           0.0|           0.0|\n",
      "|  0|     26.0|      2.0|          0.0|            0.0|          0.0|          6.0|          0.0|       0.0|          1.0|      5.0|        0.0|         481.0|           0.0|        0.0|           0.0|           0.0|\n",
      "|  0|     33.0|      2.0|          0.0|            3.0|          0.0|         50.0|          0.0|       0.0|          1.0|      5.0|        0.0|          30.0|           0.0|        0.0|           0.0|           0.0|\n",
      "|  0|     27.0|      4.0|          0.0|            0.0|          0.0|         91.0|          0.0|       0.0|          1.0|      5.0|        0.0|         111.0|           0.0|        0.0|           0.0|           0.0|\n",
      "|  0|     23.0|      5.0|          0.0|            2.0|          0.0|        311.0|          0.0|       0.0|          1.0|      5.0|        0.0|         342.0|           0.0|        0.0|           0.0|           0.0|\n",
      "|  0|     13.0|      3.0|          1.0|            3.0|          0.0|         20.0|          0.0|       0.0|          1.0|      5.0|        0.0|          31.0|           0.0|        0.0|           0.0|           0.0|\n",
      "|  0|     27.0|      0.0|          0.0|            2.0|          0.0|         85.0|          0.0|       0.0|          1.0|      5.0|        0.0|         279.0|           0.0|        0.0|           0.0|           0.0|\n",
      "|  0|     34.0|      5.0|          0.0|            2.0|          0.0|         86.0|          0.0|       0.0|          1.0|      5.0|        0.0|         152.0|           0.0|        0.0|           0.0|           0.0|\n",
      "|  0|      2.0|      4.0|          0.0|            0.0|          0.0|          0.0|          0.0|       0.0|          1.0|      5.0|        0.0|         148.0|           0.0|        0.0|           0.0|           0.0|\n",
      "+---+---------+---------+-------------+---------------+-------------+-------------+-------------+----------+-------------+---------+-----------+--------------+--------------+-----------+--------------+--------------+\n",
      "only showing top 20 rows\n",
      "\n"
     ]
    }
   ],
   "source": [
    "df.show()"
   ]
  },
  {
   "cell_type": "code",
   "execution_count": 100,
   "id": "771c2079-15e4-499c-970a-4fba26c61725",
   "metadata": {},
   "outputs": [],
   "source": [
    "def rename_columns(df, char_vars):\n",
    "    mapping = dict(zip([i + \"_index\" for i in char_vars], char_vars))\n",
    "    df = df.select([col(c).alias(mapping.get(c,c)) for c in df.columns])\n",
    "    return df"
   ]
  },
  {
   "cell_type": "code",
   "execution_count": 101,
   "id": "6e72c7bd-d59f-468d-9242-e3a0f2ca8f1f",
   "metadata": {},
   "outputs": [],
   "source": [
    "df = rename_columns(df, char_vars)"
   ]
  },
  {
   "cell_type": "code",
   "execution_count": 102,
   "id": "97526ed4-105e-4e90-8e3d-5f845dd2ee2c",
   "metadata": {},
   "outputs": [
    {
     "name": "stdout",
     "output_type": "stream",
     "text": [
      "+---+----+----+-------+---------+-------+-------+-------+----+-------+---+-----+--------+--------+-----+--------+--------+\n",
      "|  y| age| job|marital|education|default|balance|housing|loan|contact|day|month|duration|campaign|pdays|previous|poutcome|\n",
      "+---+----+----+-------+---------+-------+-------+-------+----+-------+---+-----+--------+--------+-----+--------+--------+\n",
      "|  0|33.0| 1.0|    0.0|      1.0|    0.0| 2117.0|    0.0| 0.0|    1.0|5.0|  0.0|   243.0|     0.0|  0.0|     0.0|     0.0|\n",
      "|  0|17.0| 2.0|    1.0|      0.0|    0.0|   83.0|    0.0| 0.0|    1.0|5.0|  0.0|    40.0|     0.0|  0.0|     0.0|     0.0|\n",
      "|  0| 2.0| 7.0|    0.0|      0.0|    0.0|    2.0|    0.0| 1.0|    1.0|5.0|  0.0|    37.0|     0.0|  0.0|     0.0|     0.0|\n",
      "|  0|18.0| 0.0|    0.0|      3.0|    0.0| 1359.0|    0.0| 0.0|    1.0|5.0|  0.0|    15.0|     0.0|  0.0|     0.0|     0.0|\n",
      "|  0| 2.0|11.0|    1.0|      3.0|    0.0|    1.0|    1.0| 0.0|    1.0|5.0|  0.0|   123.0|     0.0|  0.0|     0.0|     0.0|\n",
      "|  0| 4.0| 1.0|    0.0|      1.0|    0.0|  204.0|    0.0| 0.0|    1.0|5.0|  0.0|     8.0|     0.0|  0.0|     0.0|     0.0|\n",
      "|  0|19.0| 1.0|    1.0|      1.0|    0.0|  540.0|    0.0| 1.0|    1.0|5.0|  0.0|   146.0|     0.0|  0.0|     0.0|     0.0|\n",
      "|  0|12.0| 7.0|    2.0|      1.0|    1.0|    2.0|    0.0| 0.0|    1.0|5.0|  0.0|   401.0|     0.0|  0.0|     0.0|     0.0|\n",
      "|  0|33.0| 5.0|    0.0|      2.0|    0.0|  154.0|    0.0| 0.0|    1.0|5.0|  0.0|   138.0|     0.0|  0.0|     0.0|     0.0|\n",
      "|  0|16.0| 2.0|    1.0|      0.0|    0.0|  784.0|    0.0| 0.0|    1.0|5.0|  0.0|   130.0|     0.0|  0.0|     0.0|     0.0|\n",
      "|  0|11.0| 3.0|    2.0|      0.0|    0.0|  410.0|    0.0| 0.0|    1.0|5.0|  0.0|   156.0|     0.0|  0.0|     0.0|     0.0|\n",
      "|  0|14.0| 3.0|    1.0|      0.0|    0.0|  361.0|    0.0| 0.0|    1.0|5.0|  0.0|   112.0|     0.0|  0.0|     0.0|     0.0|\n",
      "|  0|26.0| 2.0|    0.0|      0.0|    0.0|    6.0|    0.0| 0.0|    1.0|5.0|  0.0|   481.0|     0.0|  0.0|     0.0|     0.0|\n",
      "|  0|33.0| 2.0|    0.0|      3.0|    0.0|   50.0|    0.0| 0.0|    1.0|5.0|  0.0|    30.0|     0.0|  0.0|     0.0|     0.0|\n",
      "|  0|27.0| 4.0|    0.0|      0.0|    0.0|   91.0|    0.0| 0.0|    1.0|5.0|  0.0|   111.0|     0.0|  0.0|     0.0|     0.0|\n",
      "|  0|23.0| 5.0|    0.0|      2.0|    0.0|  311.0|    0.0| 0.0|    1.0|5.0|  0.0|   342.0|     0.0|  0.0|     0.0|     0.0|\n",
      "|  0|13.0| 3.0|    1.0|      3.0|    0.0|   20.0|    0.0| 0.0|    1.0|5.0|  0.0|    31.0|     0.0|  0.0|     0.0|     0.0|\n",
      "|  0|27.0| 0.0|    0.0|      2.0|    0.0|   85.0|    0.0| 0.0|    1.0|5.0|  0.0|   279.0|     0.0|  0.0|     0.0|     0.0|\n",
      "|  0|34.0| 5.0|    0.0|      2.0|    0.0|   86.0|    0.0| 0.0|    1.0|5.0|  0.0|   152.0|     0.0|  0.0|     0.0|     0.0|\n",
      "|  0| 2.0| 4.0|    0.0|      0.0|    0.0|    0.0|    0.0| 0.0|    1.0|5.0|  0.0|   148.0|     0.0|  0.0|     0.0|     0.0|\n",
      "+---+----+----+-------+---------+-------+-------+-------+----+-------+---+-----+--------+--------+-----+--------+--------+\n",
      "only showing top 20 rows\n",
      "\n"
     ]
    }
   ],
   "source": [
    "df.show()"
   ]
  },
  {
   "cell_type": "code",
   "execution_count": 103,
   "id": "e6d18f3d-7f8c-43c2-b438-9ceba6b53fd0",
   "metadata": {},
   "outputs": [],
   "source": [
    "def assemble_vectors(df,features_list,target_variable_name):\n",
    "    stages = []\n",
    "    # assemble vectors\n",
    "    assembler = VectorAssembler(inputCols=features_list,outputCol='features')\n",
    "    stages=[assembler]\n",
    "    #select all the columns + target + newly created 'features' column\n",
    "    selectedCols = [target_variable_name,'features'] + features_list\n",
    "    #use pipeline to process sequentially\n",
    "    pipeline = Pipeline(stages=stages)\n",
    "    #assembler model\n",
    "    assembleModel =pipeline.fit(df)\n",
    "    #apply assembler model on data\n",
    "    df = assembleModel.transform(df).select(selectedCols)\n",
    "    return df, assembleModel, selectedCols"
   ]
  },
  {
   "cell_type": "code",
   "execution_count": 104,
   "id": "76cda71c-bb04-4c53-abb0-d166a39a0cd7",
   "metadata": {},
   "outputs": [],
   "source": [
    "# exclude target variable and select other feature vectors\n",
    "features_list =df.columns\n",
    "features_list.remove(target_variable_name)\n",
    "df, assembleModel, selectedCols= assemble_vectors(df, features_list, target_variable_name)"
   ]
  },
  {
   "cell_type": "code",
   "execution_count": 105,
   "id": "68aa84f2-0784-4ab2-ad0b-56f1e4b32362",
   "metadata": {},
   "outputs": [
    {
     "name": "stdout",
     "output_type": "stream",
     "text": [
      "+---+--------------------+----+----+-------+---------+-------+-------+-------+----+-------+---+-----+--------+--------+-----+--------+--------+\n",
      "|  y|            features| age| job|marital|education|default|balance|housing|loan|contact|day|month|duration|campaign|pdays|previous|poutcome|\n",
      "+---+--------------------+----+----+-------+---------+-------+-------+-------+----+-------+---+-----+--------+--------+-----+--------+--------+\n",
      "|  0|(16,[0,1,3,5,8,9,...|33.0| 1.0|    0.0|      1.0|    0.0| 2117.0|    0.0| 0.0|    1.0|5.0|  0.0|   243.0|     0.0|  0.0|     0.0|     0.0|\n",
      "|  0|(16,[0,1,2,5,8,9,...|17.0| 2.0|    1.0|      0.0|    0.0|   83.0|    0.0| 0.0|    1.0|5.0|  0.0|    40.0|     0.0|  0.0|     0.0|     0.0|\n",
      "|  0|(16,[0,1,5,7,8,9,...| 2.0| 7.0|    0.0|      0.0|    0.0|    2.0|    0.0| 1.0|    1.0|5.0|  0.0|    37.0|     0.0|  0.0|     0.0|     0.0|\n",
      "|  0|(16,[0,3,5,8,9,11...|18.0| 0.0|    0.0|      3.0|    0.0| 1359.0|    0.0| 0.0|    1.0|5.0|  0.0|    15.0|     0.0|  0.0|     0.0|     0.0|\n",
      "|  0|(16,[0,1,2,3,5,6,...| 2.0|11.0|    1.0|      3.0|    0.0|    1.0|    1.0| 0.0|    1.0|5.0|  0.0|   123.0|     0.0|  0.0|     0.0|     0.0|\n",
      "|  0|(16,[0,1,3,5,8,9,...| 4.0| 1.0|    0.0|      1.0|    0.0|  204.0|    0.0| 0.0|    1.0|5.0|  0.0|     8.0|     0.0|  0.0|     0.0|     0.0|\n",
      "|  0|(16,[0,1,2,3,5,7,...|19.0| 1.0|    1.0|      1.0|    0.0|  540.0|    0.0| 1.0|    1.0|5.0|  0.0|   146.0|     0.0|  0.0|     0.0|     0.0|\n",
      "|  0|(16,[0,1,2,3,4,5,...|12.0| 7.0|    2.0|      1.0|    1.0|    2.0|    0.0| 0.0|    1.0|5.0|  0.0|   401.0|     0.0|  0.0|     0.0|     0.0|\n",
      "|  0|(16,[0,1,3,5,8,9,...|33.0| 5.0|    0.0|      2.0|    0.0|  154.0|    0.0| 0.0|    1.0|5.0|  0.0|   138.0|     0.0|  0.0|     0.0|     0.0|\n",
      "|  0|(16,[0,1,2,5,8,9,...|16.0| 2.0|    1.0|      0.0|    0.0|  784.0|    0.0| 0.0|    1.0|5.0|  0.0|   130.0|     0.0|  0.0|     0.0|     0.0|\n",
      "|  0|(16,[0,1,2,5,8,9,...|11.0| 3.0|    2.0|      0.0|    0.0|  410.0|    0.0| 0.0|    1.0|5.0|  0.0|   156.0|     0.0|  0.0|     0.0|     0.0|\n",
      "|  0|(16,[0,1,2,5,8,9,...|14.0| 3.0|    1.0|      0.0|    0.0|  361.0|    0.0| 0.0|    1.0|5.0|  0.0|   112.0|     0.0|  0.0|     0.0|     0.0|\n",
      "|  0|(16,[0,1,5,8,9,11...|26.0| 2.0|    0.0|      0.0|    0.0|    6.0|    0.0| 0.0|    1.0|5.0|  0.0|   481.0|     0.0|  0.0|     0.0|     0.0|\n",
      "|  0|(16,[0,1,3,5,8,9,...|33.0| 2.0|    0.0|      3.0|    0.0|   50.0|    0.0| 0.0|    1.0|5.0|  0.0|    30.0|     0.0|  0.0|     0.0|     0.0|\n",
      "|  0|(16,[0,1,5,8,9,11...|27.0| 4.0|    0.0|      0.0|    0.0|   91.0|    0.0| 0.0|    1.0|5.0|  0.0|   111.0|     0.0|  0.0|     0.0|     0.0|\n",
      "|  0|(16,[0,1,3,5,8,9,...|23.0| 5.0|    0.0|      2.0|    0.0|  311.0|    0.0| 0.0|    1.0|5.0|  0.0|   342.0|     0.0|  0.0|     0.0|     0.0|\n",
      "|  0|(16,[0,1,2,3,5,8,...|13.0| 3.0|    1.0|      3.0|    0.0|   20.0|    0.0| 0.0|    1.0|5.0|  0.0|    31.0|     0.0|  0.0|     0.0|     0.0|\n",
      "|  0|(16,[0,3,5,8,9,11...|27.0| 0.0|    0.0|      2.0|    0.0|   85.0|    0.0| 0.0|    1.0|5.0|  0.0|   279.0|     0.0|  0.0|     0.0|     0.0|\n",
      "|  0|(16,[0,1,3,5,8,9,...|34.0| 5.0|    0.0|      2.0|    0.0|   86.0|    0.0| 0.0|    1.0|5.0|  0.0|   152.0|     0.0|  0.0|     0.0|     0.0|\n",
      "|  0|(16,[0,1,8,9,11],...| 2.0| 4.0|    0.0|      0.0|    0.0|    0.0|    0.0| 0.0|    1.0|5.0|  0.0|   148.0|     0.0|  0.0|     0.0|     0.0|\n",
      "+---+--------------------+----+----+-------+---------+-------+-------+-------+----+-------+---+-----+--------+--------+-----+--------+--------+\n",
      "only showing top 20 rows\n",
      "\n"
     ]
    }
   ],
   "source": [
    "df.show()"
   ]
  },
  {
   "cell_type": "code",
   "execution_count": 106,
   "id": "a4844427-ec82-4263-9413-9473513ab9f3",
   "metadata": {},
   "outputs": [
    {
     "data": {
      "text/plain": [
       "PipelineModel_548cee3cf7e0"
      ]
     },
     "execution_count": 106,
     "metadata": {},
     "output_type": "execute_result"
    }
   ],
   "source": [
    "assembleModel"
   ]
  },
  {
   "cell_type": "code",
   "execution_count": 107,
   "id": "b1a9595b-e7ff-48fe-9377-6c0f70a7bfb3",
   "metadata": {},
   "outputs": [
    {
     "data": {
      "text/plain": [
       "['y',\n",
       " 'features',\n",
       " 'age',\n",
       " 'job',\n",
       " 'marital',\n",
       " 'education',\n",
       " 'default',\n",
       " 'balance',\n",
       " 'housing',\n",
       " 'loan',\n",
       " 'contact',\n",
       " 'day',\n",
       " 'month',\n",
       " 'duration',\n",
       " 'campaign',\n",
       " 'pdays',\n",
       " 'previous',\n",
       " 'poutcome']"
      ]
     },
     "execution_count": 107,
     "metadata": {},
     "output_type": "execute_result"
    }
   ],
   "source": [
    "selectedCols"
   ]
  },
  {
   "cell_type": "markdown",
   "id": "0b595b49-178a-44b8-9cc5-fca3c98d6c29",
   "metadata": {},
   "source": [
    "# Modelling"
   ]
  },
  {
   "cell_type": "code",
   "execution_count": 109,
   "id": "162bafdb-bf1e-428a-a204-43755ee1175c",
   "metadata": {},
   "outputs": [],
   "source": [
    "train, test = df.randomSplit([0.7,0.3],seed=12345)"
   ]
  },
  {
   "cell_type": "code",
   "execution_count": 110,
   "id": "a7f12e73-ab0a-4afa-9d56-d14d6bad6a86",
   "metadata": {},
   "outputs": [
    {
     "data": {
      "text/plain": [
       "(31559, 13652)"
      ]
     },
     "execution_count": 110,
     "metadata": {},
     "output_type": "execute_result"
    }
   ],
   "source": [
    "train.count(), test.count()"
   ]
  },
  {
   "cell_type": "code",
   "execution_count": 111,
   "id": "1197c71e-4abf-4f32-973e-5da68bc48e0a",
   "metadata": {},
   "outputs": [],
   "source": [
    "from pyspark.ml.classification import RandomForestClassifier"
   ]
  },
  {
   "cell_type": "code",
   "execution_count": 112,
   "id": "1f95c241-672d-46c4-a6b5-905412d3181a",
   "metadata": {},
   "outputs": [],
   "source": [
    "clf = RandomForestClassifier(featuresCol = 'features',labelCol='y',maxBins = 7169)"
   ]
  },
  {
   "cell_type": "code",
   "execution_count": 113,
   "id": "cb972ebf-8990-4238-a512-66ee0891269b",
   "metadata": {},
   "outputs": [],
   "source": [
    "clf_model = clf.fit(train)"
   ]
  },
  {
   "cell_type": "code",
   "execution_count": 114,
   "id": "53db8298-67fe-4316-ab75-c7a9adf71df9",
   "metadata": {},
   "outputs": [
    {
     "name": "stdout",
     "output_type": "stream",
     "text": [
      "(16,[0,1,2,3,5,6,7,8,9,10,11,12,13,14,15],[0.02186537058951718,0.0026188180313093377,0.0007187000422634136,0.0002016646033454608,0.44554837995176655,0.01767247185149186,0.003232821035135271,0.00943042694145861,0.004544586928099005,0.05732894790193127,0.2790647747331575,0.0003709521913899377,0.06456294054817088,0.023137679544876735,0.06970146510608678])\n"
     ]
    }
   ],
   "source": [
    "print(clf_model.featureImportances)"
   ]
  },
  {
   "cell_type": "markdown",
   "id": "0e029f5f-f0b4-4d5b-8ad9-cc03ca9636a9",
   "metadata": {},
   "source": [
    "print(clf_model.toDebugString)"
   ]
  },
  {
   "cell_type": "code",
   "execution_count": 115,
   "id": "94b93600-8860-425c-8f71-70ed986fa59e",
   "metadata": {},
   "outputs": [],
   "source": [
    "train_pred_result = clf_model.transform(train)"
   ]
  },
  {
   "cell_type": "code",
   "execution_count": 116,
   "id": "823fd97e-1e48-449f-a2d0-5a8a5fed41d6",
   "metadata": {},
   "outputs": [],
   "source": [
    "test_pred_result = clf_model.transform(test)"
   ]
  },
  {
   "cell_type": "code",
   "execution_count": 117,
   "id": "e4312819-e0f7-4b29-8c9c-3cf50287e582",
   "metadata": {},
   "outputs": [],
   "source": [
    "from pyspark.mllib.evaluation import MulticlassMetrics"
   ]
  },
  {
   "cell_type": "code",
   "execution_count": 118,
   "id": "8448d983-d2aa-409d-a2fd-634d61656feb",
   "metadata": {},
   "outputs": [],
   "source": [
    "from pyspark.sql.types import IntegerType, DoubleType"
   ]
  },
  {
   "cell_type": "code",
   "execution_count": 119,
   "id": "b5509627-d0fe-4c34-84b2-9544816f60d1",
   "metadata": {},
   "outputs": [],
   "source": [
    "from pyspark.ml.evaluation import BinaryClassificationEvaluator"
   ]
  },
  {
   "cell_type": "code",
   "execution_count": 120,
   "id": "8019059c-f4ca-4f2c-85c4-7c9dd58a7428",
   "metadata": {},
   "outputs": [],
   "source": [
    "def evaluation_metrics(df, target_variable_name):\n",
    "    pred = df.select(\"prediction\", target_variable_name)\n",
    "    pred =pred.withColumn(target_variable_name, pred[target_variable_name].cast(DoubleType()))\n",
    "    pred =pred.withColumn(\"prediction\", pred[\"prediction\"].cast(DoubleType()))\n",
    "    metrics = MulticlassMetrics(pred.rdd.map(tuple))\n",
    "    # confusion matrix\n",
    "    cm = metrics.confusionMatrix().toArray()\n",
    "    acc = metrics.accuracy\n",
    "    misclassification_rate = 1 - acc\n",
    "    precision = metrics.precision(1.0)\n",
    "    recall = metrics.recall(1.0)\n",
    "    f1 = metrics.fMeasure(1.0)\n",
    "    evaluator_roc = BinaryClassificationEvaluator(labelCol = target_variable_name, rawPredictionCol = 'rawPrediction',metricName = 'areaUnderROC')\n",
    "    roc = evaluator_roc.evaluate(df)\n",
    "    evaluator_pr = BinaryClassificationEvaluator(labelCol = target_variable_name, rawPredictionCol = 'rawPrediction',metricName = 'areaUnderPR')\n",
    "    pr = evaluator_pr.evaluate(df)\n",
    "    return cm, acc, misclassification_rate, precision, recall, f1, roc, pr"
   ]
  },
  {
   "cell_type": "code",
   "execution_count": 121,
   "id": "65141b1b-35fc-4328-8455-e7b69fda0a29",
   "metadata": {},
   "outputs": [
    {
     "name": "stderr",
     "output_type": "stream",
     "text": [
      "/usr/local/spark/python/pyspark/sql/context.py:125: FutureWarning: Deprecated in 3.0.0. Use SparkSession.builder.getOrCreate() instead.\n",
      "  warnings.warn(\n"
     ]
    }
   ],
   "source": [
    "train_cm, train_acc, train_miss_rate,train_precision,train_recall, train_f1, train_roc, train_pr = evaluation_metrics(train_pred_result, target_variable_name)"
   ]
  },
  {
   "cell_type": "code",
   "execution_count": 122,
   "id": "0969549d-dad2-47a4-bee8-c26baf5e0641",
   "metadata": {},
   "outputs": [],
   "source": [
    "test_cm, test_acc, test_miss_rate,test_precision,test_recall, test_f1, test_roc, test_pr = evaluation_metrics(test_pred_result, target_variable_name)"
   ]
  },
  {
   "cell_type": "code",
   "execution_count": 123,
   "id": "9f8ba444-7bd6-4185-8496-1604c1d16994",
   "metadata": {},
   "outputs": [],
   "source": [
    "# Comparison of metrics"
   ]
  },
  {
   "cell_type": "code",
   "execution_count": 124,
   "id": "5d4edc2b-a356-410f-9333-f7e237f41716",
   "metadata": {},
   "outputs": [
    {
     "name": "stdout",
     "output_type": "stream",
     "text": [
      "Train accuracy -  0.9108019899236351  Test accuracy -  0.896938177556402\n"
     ]
    }
   ],
   "source": [
    "print('Train accuracy - ', train_acc,' Test accuracy - ', test_acc)"
   ]
  },
  {
   "cell_type": "code",
   "execution_count": 125,
   "id": "fd370084-876a-4971-9e1e-4c8fa98e418a",
   "metadata": {},
   "outputs": [
    {
     "name": "stdout",
     "output_type": "stream",
     "text": [
      "Train misclassification rate -  0.08919801007636485 , Test misclassification rate -  0.10306182244359796\n"
     ]
    }
   ],
   "source": [
    "print('Train misclassification rate - ', train_miss_rate, ', Test misclassification rate - ', test_miss_rate)"
   ]
  },
  {
   "cell_type": "code",
   "execution_count": 126,
   "id": "7d596681-9a6f-4ce8-af95-e74a7b207a31",
   "metadata": {},
   "outputs": [
    {
     "name": "stdout",
     "output_type": "stream",
     "text": [
      "Train precision -  0.9670223084384093 , Test precision -  0.6529411764705882\n"
     ]
    }
   ],
   "source": [
    "print('Train precision - ', train_precision, ', Test precision - ', test_precision)"
   ]
  },
  {
   "cell_type": "code",
   "execution_count": 127,
   "id": "a6af827c-422f-4ec8-9f69-26a4c5e7686c",
   "metadata": {},
   "outputs": [
    {
     "name": "stdout",
     "output_type": "stream",
     "text": [
      "Train recall -  0.26389624139756485 , Test misclassification rate -  0.1469225678358703\n"
     ]
    }
   ],
   "source": [
    "print('Train recall - ', train_recall, ', Test misclassification rate - ', test_recall)"
   ]
  },
  {
   "cell_type": "code",
   "execution_count": 128,
   "id": "7e70f180-1ddf-416c-80a7-32e4582d115f",
   "metadata": {},
   "outputs": [
    {
     "name": "stdout",
     "output_type": "stream",
     "text": [
      "Train f1 score -  0.41463921813266796 , Test misclassification rate -  0.23987034035656402\n"
     ]
    }
   ],
   "source": [
    "print('Train f1 score - ', train_f1, ', Test misclassification rate - ', test_f1)"
   ]
  },
  {
   "cell_type": "code",
   "execution_count": 129,
   "id": "5074c1dd-74c8-433b-bb65-7dce6e17e3d4",
   "metadata": {},
   "outputs": [
    {
     "name": "stdout",
     "output_type": "stream",
     "text": [
      "Train ROC -  0.9567075560685466 , Test ROC -  0.8226896997996894\n"
     ]
    }
   ],
   "source": [
    "print('Train ROC - ', train_roc, ', Test ROC - ', test_roc)"
   ]
  },
  {
   "cell_type": "code",
   "execution_count": 130,
   "id": "0379009e-f6d0-4cf5-8a05-bf507d552c0e",
   "metadata": {},
   "outputs": [
    {
     "name": "stdout",
     "output_type": "stream",
     "text": [
      "Train PR -  0.7814022653478618 , Test PR -  0.41212115719915343\n"
     ]
    }
   ],
   "source": [
    "print('Train PR - ', train_pr, ', Test PR - ', test_pr)"
   ]
  },
  {
   "cell_type": "code",
   "execution_count": 131,
   "id": "99e2eaea-97be-4c97-9f61-a7d655c487a5",
   "metadata": {},
   "outputs": [],
   "source": [
    "import seaborn as sns\n",
    "import matplotlib.pyplot as plt"
   ]
  },
  {
   "cell_type": "code",
   "execution_count": 132,
   "id": "fde6baa4-abd4-4a0c-9888-ebd2dd9947c2",
   "metadata": {},
   "outputs": [],
   "source": [
    "def make_confusion_matrix_chart(cf_matrix_train, cf_matrix_test):\n",
    "    \n",
    "    list_values = ['0','1']\n",
    "    \n",
    "    plt.figure(1, figsize=(10,5))\n",
    "    plt.subplot(121)\n",
    "    sns.heatmap(cf_matrix_train, annot=True, yticklabels=list_values,xticklabels = list_values, fmt='g')\n",
    "    plt.ylabel(\"Actual\")\n",
    "    plt.xlabel(\"Pred\")\n",
    "    plt.ylim([0,len(list_values)])\n",
    "    plt.title('Train data predictions')\n",
    "    \n",
    "    plt.subplot(122)\n",
    "    sns.heatmap(cf_matrix_test, annot=True, yticklabels=list_values, xticklabels=list_values, fmt='g')\n",
    "    plt.ylabel(\"Actual\")\n",
    "    plt.xlabel(\"Pred\")\n",
    "    plt.ylim([0,len(list_values)])\n",
    "    plt.title('Test data predictions')\n",
    "    plt.tight_layout()\n",
    "    return None"
   ]
  },
  {
   "cell_type": "code",
   "execution_count": 133,
   "id": "be9f1c40-cbc2-45e4-85f6-6f65d2d147bc",
   "metadata": {},
   "outputs": [
    {
     "data": {
      "image/png": "[encoded data removed]",
      "text/plain": [
       "<Figure size 720x360 with 4 Axes>"
      ]
     },
     "metadata": {
      "needs_background": "light"
     },
     "output_type": "display_data"
    }
   ],
   "source": [
    "make_confusion_matrix_chart(train_cm, test_cm)"
   ]
  },
  {
   "cell_type": "code",
   "execution_count": 45,
   "id": "4c54afdc-89e8-43f8-be79-73e7561b240f",
   "metadata": {},
   "outputs": [],
   "source": [
    "# Model deployment"
   ]
  },
  {
   "cell_type": "code",
   "execution_count": 46,
   "id": "cc581d77-b9ec-420e-a7eb-13a7c0174f8a",
   "metadata": {},
   "outputs": [],
   "source": [
    "import os\n",
    "import pickle"
   ]
  },
  {
   "cell_type": "code",
   "execution_count": 47,
   "id": "998e3e78-e633-4f5b-b3de-970c502afcf2",
   "metadata": {},
   "outputs": [],
   "source": [
    "path_to_write_output = 'deploy'"
   ]
  },
  {
   "cell_type": "code",
   "execution_count": 48,
   "id": "d576565b-25cb-4aa6-be01-14c1cb04e733",
   "metadata": {},
   "outputs": [],
   "source": [
    "try:\n",
    "    os.mkdir(path_to_write_output)\n",
    "except:\n",
    "    pass"
   ]
  },
  {
   "cell_type": "code",
   "execution_count": 50,
   "id": "6c03eaff-3428-492b-a245-22f3868aef25",
   "metadata": {},
   "outputs": [],
   "source": [
    "char_labels.write().overwrite().save(path_to_write_output+'/char_label_model.h5')"
   ]
  },
  {
   "cell_type": "code",
   "execution_count": 51,
   "id": "242939b9-7171-48cb-a58b-38c1c4412099",
   "metadata": {},
   "outputs": [],
   "source": [
    "assembleModel.write().overwrite().save(path_to_write_output+'/assembleModel.h5')\n",
    "clf_model.write().overwrite().save(path_to_write_output+'/clf_model.h5')"
   ]
  },
  {
   "cell_type": "code",
   "execution_count": 52,
   "id": "89b60564-4a5c-446f-a7f0-6a296e5699d3",
   "metadata": {},
   "outputs": [],
   "source": [
    "list_of_vars = [features_list, char_vars,num_vars]\n",
    "with open(path_to_write_output +'/file.pkl','wb') as handle:\n",
    "    pickle.dump(list_of_vars,handle)"
   ]
  },
  {
   "cell_type": "code",
   "execution_count": 53,
   "id": "dfe81fb0-7867-4ebd-8db8-67a8ca65ce2d",
   "metadata": {},
   "outputs": [],
   "source": [
    "# load models"
   ]
  },
  {
   "cell_type": "code",
   "execution_count": 57,
   "id": "0cac41d1-6fb7-4628-806e-906857330bb3",
   "metadata": {},
   "outputs": [],
   "source": [
    "from pyspark.sql import functions as F\n",
    "import pickle\n",
    "from pyspark.ml import PipelineModel\n",
    "from pyspark.ml.classification import RandomForestClassificationModel\n",
    "from pyspark.sql.functions import udf\n",
    "from pyspark.sql.types import IntegerType, DoubleType"
   ]
  },
  {
   "cell_type": "code",
   "execution_count": 60,
   "id": "e7b615d2-c430-4f42-9ac5-b88a537e935c",
   "metadata": {},
   "outputs": [],
   "source": [
    "path_to_read_objects = 'deploy'"
   ]
  },
  {
   "cell_type": "code",
   "execution_count": 61,
   "id": "50f1cb78-20cd-4bea-ab17-6d2201e411f6",
   "metadata": {},
   "outputs": [],
   "source": [
    "char_labels = PipelineModel.load(path_to_read_objects+'/char_label_model.h5')\n",
    "assembleModel = PipelineModel.load(path_to_read_objects+'/assembleModel.h5')\n",
    "clf_model = RandomForestClassificationModel.load(path_to_read_objects+'/clf_model.h5')"
   ]
  },
  {
   "cell_type": "code",
   "execution_count": 62,
   "id": "12fb8857-f779-4d31-a5a3-81be75b28388",
   "metadata": {},
   "outputs": [],
   "source": [
    "with open(path_to_read_objects +'/file.pkl','rb') as handle:\n",
    "    features_list,char_vars, num_vars = pickle.load(handle)"
   ]
  },
  {
   "cell_type": "code",
   "execution_count": 63,
   "id": "9443ab84-698b-4420-812f-30204a5d7204",
   "metadata": {},
   "outputs": [],
   "source": [
    "def rename_columns(df, char_vars):\n",
    "    mapping = dict(zip([i + '_index' for i in char_vars], char_vars))\n",
    "    df = df.select([F.col(c).alias(mapping.get(c, c)) for c in df.columns])\n",
    "    return df"
   ]
  },
  {
   "cell_type": "code",
   "execution_count": 64,
   "id": "522394e0-2831-4b74-9301-22bf9e8f2d5c",
   "metadata": {},
   "outputs": [],
   "source": [
    "# score the new data\n",
    "def score_new_df(scoredf):\n",
    "    X = scoredf.select(features_list)\n",
    "    X = char_labels.transform(x)\n",
    "    X = X.select([c for c in X.columns if c not in char_vars])\n",
    "    X = rename_columns(X, char_vars)\n",
    "    final_X = assembleModel.transform(X)\n",
    "    final_X.cache()\n",
    "    pred = clf_model.transform(final_x)\n",
    "    pred.cache()\n",
    "    split_udf = udf(lambda value: value[1].item(), DoubleType())\n",
    "    pred = pred.select('prediction', split_udf('probability').alias('probability'))\n",
    "    return pred"
   ]
  },
  {
   "cell_type": "code",
   "execution_count": null,
   "id": "a489e337-7678-4a23-999c-d638f1210dac",
   "metadata": {},
   "outputs": [],
   "source": []
  }
 ],
 "metadata": {
  "kernelspec": {
   "display_name": "Python 3 (ipykernel)",
   "language": "python",
   "name": "python3"
  },
  "language_info": {
   "codemirror_mode": {
    "name": "ipython",
    "version": 3
   },
   "file_extension": ".py",
   "mimetype": "text/x-python",
   "name": "python",
   "nbconvert_exporter": "python",
   "pygments_lexer": "ipython3",
   "version": "3.9.10"
  }
 },
 "nbformat": 4,
 "nbformat_minor": 5
}
