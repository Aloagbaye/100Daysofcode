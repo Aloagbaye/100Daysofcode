{
 "cells": [
  {
   "cell_type": "code",
   "execution_count": 1,
   "id": "87f24924-4d7a-4ccf-92e9-c8b7a187505f",
   "metadata": {},
   "outputs": [],
   "source": [
    "from pyspark.sql import SparkSession"
   ]
  },
  {
   "cell_type": "code",
   "execution_count": 2,
   "id": "22f5a6cd-57d2-4c08-b79a-eab1e6a6c9e3",
   "metadata": {},
   "outputs": [],
   "source": [
    "spark = SparkSession.builder.appName(\"Variable_Selection\").getOrCreate()"
   ]
  },
  {
   "cell_type": "code",
   "execution_count": 3,
   "id": "0af98667-c3d9-45eb-814f-ba5dc1ea29d9",
   "metadata": {},
   "outputs": [],
   "source": [
    "file_location = \"train.csv\"\n",
    "file_type = \"csv\"\n",
    "infer_schema=\"False\"\n",
    "first_row_is_header=\"True\"\n",
    "delimeter=\",\""
   ]
  },
  {
   "cell_type": "code",
   "execution_count": 4,
   "id": "a996a1ba-4d10-49ac-ab6b-000deccad036",
   "metadata": {},
   "outputs": [],
   "source": [
    "df = spark.read.format(file_type)\\\n",
    ".option(\"inferSchema\",infer_schema)\\\n",
    ".option(\"header\",first_row_is_header)\\\n",
    ".option(\"sep\",delimeter)\\\n",
    ".load(file_location)"
   ]
  },
  {
   "cell_type": "code",
   "execution_count": 5,
   "id": "f4675c7d-e785-49de-88b6-2762c07aff84",
   "metadata": {},
   "outputs": [
    {
     "name": "stdout",
     "output_type": "stream",
     "text": [
      "+-----------+--------+------+--------------------+------+----+-----+-----+----------------+-------+-----+--------+\n",
      "|PassengerId|Survived|Pclass|                Name|   Sex| Age|SibSp|Parch|          Ticket|   Fare|Cabin|Embarked|\n",
      "+-----------+--------+------+--------------------+------+----+-----+-----+----------------+-------+-----+--------+\n",
      "|          1|       0|     3|Braund, Mr. Owen ...|  male|  22|    1|    0|       A/5 21171|   7.25| null|       S|\n",
      "|          2|       1|     1|Cumings, Mrs. Joh...|female|  38|    1|    0|        PC 17599|71.2833|  C85|       C|\n",
      "|          3|       1|     3|Heikkinen, Miss. ...|female|  26|    0|    0|STON/O2. 3101282|  7.925| null|       S|\n",
      "|          4|       1|     1|Futrelle, Mrs. Ja...|female|  35|    1|    0|          113803|   53.1| C123|       S|\n",
      "|          5|       0|     3|Allen, Mr. Willia...|  male|  35|    0|    0|          373450|   8.05| null|       S|\n",
      "|          6|       0|     3|    Moran, Mr. James|  male|null|    0|    0|          330877| 8.4583| null|       Q|\n",
      "|          7|       0|     1|McCarthy, Mr. Tim...|  male|  54|    0|    0|           17463|51.8625|  E46|       S|\n",
      "|          8|       0|     3|Palsson, Master. ...|  male|   2|    3|    1|          349909| 21.075| null|       S|\n",
      "|          9|       1|     3|Johnson, Mrs. Osc...|female|  27|    0|    2|          347742|11.1333| null|       S|\n",
      "|         10|       1|     2|Nasser, Mrs. Nich...|female|  14|    1|    0|          237736|30.0708| null|       C|\n",
      "|         11|       1|     3|Sandstrom, Miss. ...|female|   4|    1|    1|         PP 9549|   16.7|   G6|       S|\n",
      "|         12|       1|     1|Bonnell, Miss. El...|female|  58|    0|    0|          113783|  26.55| C103|       S|\n",
      "|         13|       0|     3|Saundercock, Mr. ...|  male|  20|    0|    0|       A/5. 2151|   8.05| null|       S|\n",
      "|         14|       0|     3|Andersson, Mr. An...|  male|  39|    1|    5|          347082| 31.275| null|       S|\n",
      "|         15|       0|     3|Vestrom, Miss. Hu...|female|  14|    0|    0|          350406| 7.8542| null|       S|\n",
      "|         16|       1|     2|Hewlett, Mrs. (Ma...|female|  55|    0|    0|          248706|     16| null|       S|\n",
      "|         17|       0|     3|Rice, Master. Eugene|  male|   2|    4|    1|          382652| 29.125| null|       Q|\n",
      "|         18|       1|     2|Williams, Mr. Cha...|  male|null|    0|    0|          244373|     13| null|       S|\n",
      "|         19|       0|     3|Vander Planke, Mr...|female|  31|    1|    0|          345763|     18| null|       S|\n",
      "|         20|       1|     3|Masselmani, Mrs. ...|female|null|    0|    0|            2649|  7.225| null|       C|\n",
      "+-----------+--------+------+--------------------+------+----+-----+-----+----------------+-------+-----+--------+\n",
      "only showing top 20 rows\n",
      "\n"
     ]
    }
   ],
   "source": [
    "df.show()"
   ]
  },
  {
   "cell_type": "code",
   "execution_count": 27,
   "id": "10328e0e-020f-4e77-ae35-17c9fd73a1ec",
   "metadata": {},
   "outputs": [],
   "source": [
    "from pyspark.ml.feature import VectorAssembler\n",
    "from pyspark.ml.feature import StringIndexer\n",
    "from pyspark.ml import Pipeline\n",
    "from pyspark.sql.functions import count, when, isnan, col"
   ]
  },
  {
   "cell_type": "code",
   "execution_count": 14,
   "id": "3f1f3621-f73b-4050-917c-d82812e4c351",
   "metadata": {},
   "outputs": [],
   "source": [
    "#1.  Identify variable types"
   ]
  },
  {
   "cell_type": "code",
   "execution_count": 18,
   "id": "015f0f1c-a617-46cd-840a-33bf8eb4f3f4",
   "metadata": {},
   "outputs": [],
   "source": [
    "def variable_type(df):\n",
    "    # use the dtypes to separate character and numeric variables\n",
    "    vars_list = df.dtypes\n",
    "    char_vars = [] #character variable list\n",
    "    num_vars = [] # numeric variable list\n",
    "    for variable in vars_list:\n",
    "        if variable[1] in ('string'):\n",
    "            char_vars.append(variable[0])\n",
    "        else:\n",
    "            num_vars.append(variable[0])\n",
    "    return char_vars, num_vars"
   ]
  },
  {
   "cell_type": "code",
   "execution_count": 19,
   "id": "fdfff06e-7027-4b97-ba33-0817236802c2",
   "metadata": {},
   "outputs": [],
   "source": [
    "char_vars, num_vars = variable_type(df)"
   ]
  },
  {
   "cell_type": "code",
   "execution_count": 20,
   "id": "ed6cb20e-5cff-4d7f-b775-d59bcace4278",
   "metadata": {},
   "outputs": [],
   "source": [
    "#2. Apply string indexer to character columns"
   ]
  },
  {
   "cell_type": "code",
   "execution_count": 22,
   "id": "d7a59e94-a9c0-42eb-99ad-2bf4e314ad2e",
   "metadata": {},
   "outputs": [],
   "source": [
    "def category_to_index(df,char_vars):\n",
    "    \n",
    "    char_df = df.select(char_vars)\n",
    "    indexers = [StringIndexer(inputCol=c, outputCol=c+\"_index\", handleInvalid=\"keep\") for c in char_df.columns]\n",
    "    pipeline = Pipeline(stages=indexers)\n",
    "    char_labels = pipeline.fit(char_df)\n",
    "    df = char_labels.transform(df)\n",
    "    return df, char_labels"
   ]
  },
  {
   "cell_type": "code",
   "execution_count": 23,
   "id": "0c5c523b-03a7-45e3-930b-e772b6212140",
   "metadata": {},
   "outputs": [],
   "source": [
    "df, char_labels = category_to_index(df,char_vars)"
   ]
  },
  {
   "cell_type": "code",
   "execution_count": 24,
   "id": "66809139-5d2f-4005-937d-5b3c67b31abd",
   "metadata": {},
   "outputs": [],
   "source": [
    "df = df.select([c for c in df.columns if c not in char_vars])"
   ]
  },
  {
   "cell_type": "code",
   "execution_count": 28,
   "id": "f59a392d-cb9d-4ab7-8898-690271de951f",
   "metadata": {},
   "outputs": [],
   "source": [
    "def rename_columns(df, char_vars):\n",
    "    mapping = dict(zip([i + \"_index\" for i in char_vars], char_vars))\n",
    "    df = df.select([col(c).alias(mapping.get(c,c)) for c in df.columns])\n",
    "    return df"
   ]
  },
  {
   "cell_type": "code",
   "execution_count": 29,
   "id": "afd7cbe8-e12f-4d4a-9316-5e1e1682b685",
   "metadata": {},
   "outputs": [],
   "source": [
    "df = rename_columns(df,char_vars)"
   ]
  },
  {
   "cell_type": "code",
   "execution_count": 30,
   "id": "af8221a8-ac20-4d54-8217-dfe3e3ce27fd",
   "metadata": {},
   "outputs": [],
   "source": [
    "# step 3 assemble features"
   ]
  },
  {
   "cell_type": "code",
   "execution_count": 31,
   "id": "ef71af78-4162-4f2f-a71d-bce6c0cba34c",
   "metadata": {},
   "outputs": [],
   "source": [
    "target_variable_name = \"Survived\""
   ]
  },
  {
   "cell_type": "code",
   "execution_count": 32,
   "id": "3c10ee1b-a08a-4b0c-a1ff-25d279295070",
   "metadata": {},
   "outputs": [],
   "source": [
    "def assemble_vectors(df,features_list,target_variable_name):\n",
    "    stages = []\n",
    "    # assemble vectors\n",
    "    assembler = VectorAssembler(inputCols=features_list,outputCol='features')\n",
    "    stages=[assembler]\n",
    "    #select all the columns + target + newly created 'features' column\n",
    "    selectedCols = [target_variable_name,'features'] + features_list\n",
    "    #use pipeline to process sequentially\n",
    "    pipeline = Pipeline(stages=stages)\n",
    "    #assembler model\n",
    "    assembleModel =pipeline.fit(df)\n",
    "    #apply assembler model on data\n",
    "    df = assembleModel.transform(df).select(selectedCols)\n",
    "    return df"
   ]
  },
  {
   "cell_type": "code",
   "execution_count": 33,
   "id": "c3cbc911-7b50-4a8a-bad5-7a441649b467",
   "metadata": {},
   "outputs": [],
   "source": [
    "# exclude target variable and select other feature vectors\n",
    "features_list =df.columns"
   ]
  },
  {
   "cell_type": "code",
   "execution_count": 34,
   "id": "887808c2-0da9-4c80-a436-4b1f154c813a",
   "metadata": {},
   "outputs": [],
   "source": [
    "features_list.remove(target_variable_name)"
   ]
  },
  {
   "cell_type": "code",
   "execution_count": 35,
   "id": "81ffef7a-3828-485f-a0cc-7e87cead7cd8",
   "metadata": {},
   "outputs": [],
   "source": [
    "df = assemble_vectors(df, features_list, target_variable_name)"
   ]
  },
  {
   "cell_type": "code",
   "execution_count": 37,
   "id": "9e9f149c-840d-478e-96fe-209ebcf1bf03",
   "metadata": {},
   "outputs": [],
   "source": [
    "import pandas as pd\n",
    "for k,v in df.schema[\"features\"].metadata[\"ml_attr\"][\"attrs\"].items():\n",
    "    features_df=pd.DataFrame(v)\n"
   ]
  },
  {
   "cell_type": "code",
   "execution_count": 38,
   "id": "3e729045-cb1e-4bae-bb09-a2663bb13b6e",
   "metadata": {},
   "outputs": [
    {
     "data": {
      "text/html": [
       "<div>\n",
       "<style scoped>\n",
       "    .dataframe tbody tr th:only-of-type {\n",
       "        vertical-align: middle;\n",
       "    }\n",
       "\n",
       "    .dataframe tbody tr th {\n",
       "        vertical-align: top;\n",
       "    }\n",
       "\n",
       "    .dataframe thead th {\n",
       "        text-align: right;\n",
       "    }\n",
       "</style>\n",
       "<table border=\"1\" class=\"dataframe\">\n",
       "  <thead>\n",
       "    <tr style=\"text-align: right;\">\n",
       "      <th></th>\n",
       "      <th>vals</th>\n",
       "      <th>idx</th>\n",
       "      <th>name</th>\n",
       "    </tr>\n",
       "  </thead>\n",
       "  <tbody>\n",
       "    <tr>\n",
       "      <th>0</th>\n",
       "      <td>[1, 10, 100, 101, 102, 103, 104, 105, 106, 107...</td>\n",
       "      <td>0</td>\n",
       "      <td>PassengerId</td>\n",
       "    </tr>\n",
       "    <tr>\n",
       "      <th>1</th>\n",
       "      <td>[3, 1, 2, __unknown]</td>\n",
       "      <td>1</td>\n",
       "      <td>Pclass</td>\n",
       "    </tr>\n",
       "    <tr>\n",
       "      <th>2</th>\n",
       "      <td>[\"Andersson, Mr. August Edvard (\"\"Wennerstrom\"...</td>\n",
       "      <td>2</td>\n",
       "      <td>Name</td>\n",
       "    </tr>\n",
       "    <tr>\n",
       "      <th>3</th>\n",
       "      <td>[male, female, __unknown]</td>\n",
       "      <td>3</td>\n",
       "      <td>Sex</td>\n",
       "    </tr>\n",
       "    <tr>\n",
       "      <th>4</th>\n",
       "      <td>[24, 22, 18, 19, 28, 30, 21, 25, 36, 29, 26, 2...</td>\n",
       "      <td>4</td>\n",
       "      <td>Age</td>\n",
       "    </tr>\n",
       "  </tbody>\n",
       "</table>\n",
       "</div>"
      ],
      "text/plain": [
       "                                                vals  idx         name\n",
       "0  [1, 10, 100, 101, 102, 103, 104, 105, 106, 107...    0  PassengerId\n",
       "1                               [3, 1, 2, __unknown]    1       Pclass\n",
       "2  [\"Andersson, Mr. August Edvard (\"\"Wennerstrom\"...    2         Name\n",
       "3                          [male, female, __unknown]    3          Sex\n",
       "4  [24, 22, 18, 19, 28, 30, 21, 25, 36, 29, 26, 2...    4          Age"
      ]
     },
     "execution_count": 38,
     "metadata": {},
     "output_type": "execute_result"
    }
   ],
   "source": [
    "features_df.head()"
   ]
  },
  {
   "cell_type": "code",
   "execution_count": 39,
   "id": "c6e79aa9-75b6-445b-835a-1145f3776a01",
   "metadata": {},
   "outputs": [],
   "source": [
    "# Chi-SQuare Selector"
   ]
  },
  {
   "cell_type": "code",
   "execution_count": 44,
   "id": "b49df2ea-a171-4290-8b06-c0799673f719",
   "metadata": {},
   "outputs": [
    {
     "name": "stdout",
     "output_type": "stream",
     "text": [
      "ChiSqSelector output with top 6 features selected\n",
      "Selected Indices:  [1, 3, 5, 8, 9, 10]\n",
      "                                                 vals  idx         name  \\\n",
      "0   [1, 10, 100, 101, 102, 103, 104, 105, 106, 107...    0  PassengerId   \n",
      "1                                [3, 1, 2, __unknown]    1       Pclass   \n",
      "2   [\"Andersson, Mr. August Edvard (\"\"Wennerstrom\"...    2         Name   \n",
      "3                           [male, female, __unknown]    3          Sex   \n",
      "4   [24, 22, 18, 19, 28, 30, 21, 25, 36, 29, 26, 2...    4          Age   \n",
      "5                    [0, 1, 2, 4, 3, 8, 5, __unknown]    5        SibSp   \n",
      "6                    [0, 1, 2, 3, 5, 4, 6, __unknown]    6        Parch   \n",
      "7   [1601, 347082, CA. 2343, 3101295, 347088, CA 2...    7       Ticket   \n",
      "8   [8.05, 13, 7.8958, 7.75, 26, 10.5, 7.925, 7.77...    8         Fare   \n",
      "9   [B96 B98, C23 C25 C27, G6, C22 C26, D, E101, F...    9        Cabin   \n",
      "10                               [S, C, Q, __unknown]   10     Embarked   \n",
      "\n",
      "    chisq_importance  \n",
      "0                  0  \n",
      "1                  1  \n",
      "2                  0  \n",
      "3                  1  \n",
      "4                  0  \n",
      "5                  1  \n",
      "6                  0  \n",
      "7                  0  \n",
      "8                  1  \n",
      "9                  1  \n",
      "10                 1  \n"
     ]
    }
   ],
   "source": [
    "features_list = char_vars #\n",
    "\n",
    "from pyspark.ml.feature import ChiSqSelector\n",
    "from pyspark.ml.linalg import Vectors\n",
    "\n",
    "selector = ChiSqSelector(numTopFeatures=6, featuresCol=\"features\", outputCol=\"selectedFeatures\",labelCol=target_variable_name)\n",
    "\n",
    "chi_selector = selector.fit(df)\n",
    "\n",
    "result=chi_selector.transform(df)\n",
    "\n",
    "print(\"ChiSqSelector output with top %d features selected\" % selector.getNumTopFeatures())\n",
    "\n",
    "print(\"Selected Indices: \", chi_selector.selectedFeatures)\n",
    "features_df['chisq_importance'] = features_df[\"idx\"].apply(lambda x: 1 if x in chi_selector.selectedFeatures else 0)\n",
    "print(features_df)"
   ]
  },
  {
   "cell_type": "code",
   "execution_count": null,
   "id": "007f4508-2677-45d0-93fa-a282a3d512dc",
   "metadata": {},
   "outputs": [],
   "source": []
  }
 ],
 "metadata": {
  "kernelspec": {
   "display_name": "Python 3 (ipykernel)",
   "language": "python",
   "name": "python3"
  },
  "language_info": {
   "codemirror_mode": {
    "name": "ipython",
    "version": 3
   },
   "file_extension": ".py",
   "mimetype": "text/x-python",
   "name": "python",
   "nbconvert_exporter": "python",
   "pygments_lexer": "ipython3",
   "version": "3.9.7"
  }
 },
 "nbformat": 4,
 "nbformat_minor": 5
}
